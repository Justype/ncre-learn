{
 "metadata": {
  "language_info": {
   "codemirror_mode": {
    "name": "ipython",
    "version": 3
   },
   "file_extension": ".py",
   "mimetype": "text/x-python",
   "name": "python",
   "nbconvert_exporter": "python",
   "pygments_lexer": "ipython3",
   "version": "3.8.5"
  },
  "orig_nbformat": 2,
  "kernelspec": {
   "name": "python3",
   "display_name": "Python 3.8.5 64-bit",
   "metadata": {
    "interpreter": {
     "hash": "16e3f6170213bc8b93f4af10cda404198c09c84502cee13f546aa00fc3fa8f5f"
    }
   }
  }
 },
 "nbformat": 4,
 "nbformat_minor": 2,
 "cells": [
  {
   "source": [
    "# 六、 文件和数据格式化\n",
    "\n",
    "1. 文件的使用：文件打开、读写和关闭。\n",
    "2. 数据组织的维度：一维数据和二维数据。\n",
    "3. 一维数据的处理：表示、存储和处理。\n",
    "4. 二维数据的处理：表示、存储和处理。\n",
    "5. 采用 `CSV` 格式对一二维数据文件的读写。"
   ],
   "cell_type": "markdown",
   "metadata": {}
  },
  {
   "source": [
    "## 使用\n",
    "\n",
    "文件存储形式：其实都是0101\n",
    "- 文本 按特定编码，以文本方式打开九就有意义\n",
    "- 二进制形式：图片、视频等 无法用文本方式打开的\n",
    "\n",
    "### 打开\n",
    "\n",
    "`<变量名> = open(<文件名>, <打开模式>)`\n",
    "- 完整的文件名：相对or绝对路径\n",
    "- 打开：\n",
    "    - t(ext) or b(yte)\n",
    "    - 读 or 写\n",
    "        - 读：r(ead)\n",
    "        - 写：w(rite) or a(ppend) or x(exclusive创建写 存在文件则报错)\n",
    "        - +(read and write) 配合读写使用\n",
    "\n",
    "注意编码：\n",
    "- 现在Windows默认创建文件编码为UTF-8\n",
    "- 而Python在简体中文下默认使用GBK编码\n",
    "- `encoding=\"utf-8\"`\n",
    "\n",
    "### 关闭\n",
    "\n",
    "- `<变量名>.close()`\n",
    "- 自动：`with open() as <变量名>:`"
   ],
   "cell_type": "markdown",
   "metadata": {}
  },
  {
   "cell_type": "code",
   "execution_count": 1,
   "metadata": {},
   "outputs": [],
   "source": [
    "file = open(\"assets/countries.txt\", \"r\", encoding=\"utf-8\") # 开\n",
    "file.close() # 关"
   ]
  },
  {
   "source": [
    "## 读\n",
    "\n",
    "- `<f>.read(size=-1)` 读入全部内容，如果给出参数，读入前size长度\n",
    "- `<f>.readline(size=-1)` 读入一行内容，如果给出参数，读入该行前size长度\n",
    "- `<f>.readlines(hint=-1)` 读入文件所有行，以每行为元素形成列表；如果给出参数，读入前hint行\n",
    "\n",
    "逐行操作\n",
    "- 一次读入，分行处理：`for line in file.readlines():`\n",
    "- 分行读入，逐行处理：`for line in file:`\n"
   ],
   "cell_type": "markdown",
   "metadata": {}
  },
  {
   "cell_type": "code",
   "execution_count": 2,
   "metadata": {},
   "outputs": [
    {
     "output_type": "stream",
     "name": "stdout",
     "text": [
      "中国\n日本\n韩国\n"
     ]
    }
   ],
   "source": [
    "with open(\"assets/countries.txt\", \"r\", encoding=\"utf-8\") as file:\n",
    "    print(file.read()) # 读到指定的索引，默认-1"
   ]
  },
  {
   "cell_type": "code",
   "execution_count": 3,
   "metadata": {},
   "outputs": [
    {
     "output_type": "stream",
     "name": "stdout",
     "text": [
      "中国\n\n"
     ]
    }
   ],
   "source": [
    "with open(\"assets/countries.txt\", \"r\", encoding=\"utf-8\") as file:\n",
    "    print(file.readline()) # 注意这里读了换行符 \\n"
   ]
  },
  {
   "cell_type": "code",
   "execution_count": 4,
   "metadata": {},
   "outputs": [
    {
     "output_type": "stream",
     "name": "stdout",
     "text": [
      "['中国\\n', '日本\\n', '韩国']\n"
     ]
    }
   ],
   "source": [
    "with open(\"assets/countries.txt\", \"r\", encoding=\"utf-8\") as file:\n",
    "    print(file.readlines())"
   ]
  },
  {
   "source": [
    "## 写\n",
    "\n",
    "- `<f>.write(s)` 向文件写入一个字符串或字节流\n",
    "- `<f>.writelines(lines)` 将一个元素全为字符串的列表写入文件"
   ],
   "cell_type": "markdown",
   "metadata": {}
  },
  {
   "cell_type": "code",
   "execution_count": 5,
   "metadata": {},
   "outputs": [],
   "source": [
    "import os\n",
    "if not os.path.exists(\"output\"):\n",
    "    os.mkdir(\"output\")"
   ]
  },
  {
   "cell_type": "code",
   "execution_count": 6,
   "metadata": {},
   "outputs": [],
   "source": [
    "with open(\"output/test_write.txt\", \"w\", encoding=\"utf-8\") as file:\n",
    "    file.write(\"中国\")\n",
    "    file.writelines((\"日本\", \"韩国\"))"
   ]
  },
  {
   "source": [
    "### file.seek()\n",
    "\n",
    "改变当前文件操作指针的位置，offset含义如下：\n",
    "- 0 – 文件开头；\n",
    "- 1 – 当前位置；\n",
    "- 2 – 文件结尾\n",
    "\n",
    "读写操作都有"
   ],
   "cell_type": "markdown",
   "metadata": {}
  },
  {
   "cell_type": "code",
   "execution_count": 7,
   "metadata": {},
   "outputs": [
    {
     "output_type": "stream",
     "name": "stdout",
     "text": [
      "中国\n\n日本\n\n中国\n\n"
     ]
    }
   ],
   "source": [
    "with open(\"assets/countries.txt\", \"r\", encoding=\"utf-8\") as file:\n",
    "    print(file.read(3))\n",
    "    print(file.read(3))\n",
    "    file.seek(0) # 回到开头\n",
    "    print(file.read(3))"
   ]
  },
  {
   "cell_type": "code",
   "execution_count": 8,
   "metadata": {},
   "outputs": [],
   "source": [
    "with open(\"output/seek_test.txt\", \"w\", encoding=\"utf-8\") as file:\n",
    "    file.write(\"你很不错。\")\n",
    "    file.seek(0) # 回到开头\n",
    "    file.write(\"我\")\n",
    "\n",
    "# 文件内容：我很不错。"
   ]
  },
  {
   "source": [
    "## 一维数据\n",
    "\n",
    "线性的，有序也可无序\n",
    "- `['中国', '美国', '日本', '德国', '法国', '英国', '意大利']`\n",
    "- `{'日本', '中国', '美国', '意大利', '法国', '德国', '英国'}`\n",
    "\n",
    "list or set\n",
    "\n",
    "- 存储：使用 空格 或 \",\" 分隔，也可用其他字符\n",
    "- 处理：`split()` `join()`"
   ],
   "cell_type": "markdown",
   "metadata": {}
  },
  {
   "cell_type": "code",
   "execution_count": 9,
   "metadata": {},
   "outputs": [
    {
     "output_type": "stream",
     "name": "stdout",
     "text": [
      "['中国', '美国', '日本', '德国', '法国', '英国', '意大利']\n"
     ]
    }
   ],
   "source": [
    "with open(\"assets/one_dimensional_data.txt\", \"r\", encoding=\"utf-8\") as f:\n",
    "    countries = f.read().split('$')\n",
    "    print(countries)"
   ]
  },
  {
   "cell_type": "code",
   "execution_count": 10,
   "metadata": {},
   "outputs": [],
   "source": [
    "countries = [\"中国\", \"美国\", \"日本\", \"德国\"]\n",
    "\n",
    "with open(\"output/1d_test.txt\", \"w\", encoding=\"utf-8\") as f:\n",
    "    f.write(\" \".join(countries))"
   ]
  },
  {
   "source": [
    "## 二维数据\n",
    "\n",
    "两个维度：如表格\n",
    "\n",
    "CSV: Comma-Separated Values\n",
    "- 国际通用的一二维数据存储格式，一般.csv扩展名\n",
    "- 每行一个一维数据，采用逗号分隔，无空行\n",
    "- Excel和一般编辑软件都可以读入或另存为csv文件\n",
    "\n",
    "```\n",
    "城市,环比,同比,定基\n",
    "北京,101.5,120.7,121.4\n",
    "上海,101.2,127.3,127.8\n",
    "广州,101.3,119.4,120.0\n",
    "深圳,102.0,140.0,145.5\n",
    "沈阳,100.0,101.4,101.6\n",
    "```\n",
    "\n",
    "- 如果某个元素缺失，逗号仍要保留\n",
    "- 二维数据的表头可以作为数据存储，也可以另行存储\n",
    "- 逗号为英文半角逗号，逗号与数据之间无额外空格\n",
    "\n",
    "存取习惯\n",
    "- 一般按行存\n",
    "- 一般索引习惯：`ls[row][column]`，先行后列\n",
    "- 根据一般习惯，外层列表每个元素是一行，按行存\n"
   ],
   "cell_type": "markdown",
   "metadata": {}
  },
  {
   "source": [
    "### 自定义方法读"
   ],
   "cell_type": "markdown",
   "metadata": {}
  },
  {
   "cell_type": "code",
   "execution_count": 11,
   "metadata": {},
   "outputs": [
    {
     "output_type": "stream",
     "name": "stdout",
     "text": [
      "[['城市', '环比', '同比', '定基'], ['北京', '101.5', '120.7', '121.4'], ['上海', '101.2', '127.3', '127.8'], ['广州', '101.3', '119.4', '120.0'], ['深圳', '102.0', '140.0', '145.5'], ['沈阳', '100.0', '101.4', '101.6']]\n"
     ]
    }
   ],
   "source": [
    "table = []\n",
    "\n",
    "with open(\"assets/bidimensional_data.csv\", encoding=\"utf-8\") as f:\n",
    "    for line in f:\n",
    "        line = line.replace(\"\\n\",\"\")\n",
    "        table.append(line.split(\",\")) \n",
    "\n",
    "print(table)"
   ]
  },
  {
   "cell_type": "code",
   "execution_count": 12,
   "metadata": {},
   "outputs": [
    {
     "output_type": "stream",
     "name": "stdout",
     "text": [
      "北京\n"
     ]
    }
   ],
   "source": [
    "print(table[1][0])"
   ]
  },
  {
   "source": [
    "### 自定义方法写"
   ],
   "cell_type": "markdown",
   "metadata": {}
  },
  {
   "cell_type": "code",
   "execution_count": 13,
   "metadata": {},
   "outputs": [],
   "source": [
    "with open(\"output/2d_test.txt\", \"w\", encoding=\"utf-8\") as f:\n",
    "    for row in table:\n",
    "        f.write(','.join(row) + '\\n')"
   ]
  },
  {
   "source": [
    "### Python 有 CSV 库 （了解）\n",
    "\n",
    "- `csv.reader()` 传入文本迭代器，返回每行列表的迭代器\n",
    "- `csv.DictReader()` 传入文本迭代器，返回字典从读取器\n",
    "    - 文件的第一行为Key，其他行为该行的Value\n",
    "    - reader.fieldnames 返回第一行的Key list\n",
    "- "
   ],
   "cell_type": "markdown",
   "metadata": {}
  },
  {
   "cell_type": "code",
   "execution_count": 14,
   "metadata": {},
   "outputs": [],
   "source": [
    "import csv"
   ]
  },
  {
   "cell_type": "code",
   "execution_count": 15,
   "metadata": {},
   "outputs": [
    {
     "output_type": "stream",
     "name": "stdout",
     "text": [
      "{'城市': '北京', '环比': '101.5', '同比': '120.7', '定基': '121.4'}\n{'城市': '上海', '环比': '101.2', '同比': '127.3', '定基': '127.8'}\n{'城市': '广州', '环比': '101.3', '同比': '119.4', '定基': '120.0'}\n{'城市': '深圳', '环比': '102.0', '同比': '140.0', '定基': '145.5'}\n{'城市': '沈阳', '环比': '100.0', '同比': '101.4', '定基': '101.6'}\n"
     ]
    }
   ],
   "source": [
    "with open(\"assets/bidimensional_data.csv\", encoding=\"utf-8\") as f:\n",
    "    # for row in csv.reader(f): \n",
    "    #     print(type(row), end='\\t')\n",
    "    #     print(row)\n",
    "    for row in csv.DictReader(f):\n",
    "        print(row)\n",
    "    "
   ]
  },
  {
   "cell_type": "code",
   "execution_count": 16,
   "metadata": {},
   "outputs": [],
   "source": [
    "with open(\"assets/bidimensional_data.csv\", encoding=\"utf-8\") as in_csv, open(\"output/csv_test.txt\", \"w\", encoding=\"utf-8\") as out_csv:\n",
    "    reader = csv.DictReader(in_csv)\n",
    "    fieldnames = reader.fieldnames\n",
    "    table = []\n",
    "    for row in reader:\n",
    "        table.append(row)\n",
    "    writer = csv.DictWriter(out_csv, fieldnames)\n",
    "    writer.writeheader()\n",
    "    writer.writerows(table)\n"
   ]
  }
 ]
}