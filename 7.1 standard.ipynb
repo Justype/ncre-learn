{
 "metadata": {
  "language_info": {
   "codemirror_mode": {
    "name": "ipython",
    "version": 3
   },
   "file_extension": ".py",
   "mimetype": "text/x-python",
   "name": "python",
   "nbconvert_exporter": "python",
   "pygments_lexer": "ipython3",
   "version": "3.8.5"
  },
  "orig_nbformat": 2,
  "kernelspec": {
   "name": "python3",
   "display_name": "Python 3.8.5 64-bit",
   "metadata": {
    "interpreter": {
     "hash": "16e3f6170213bc8b93f4af10cda404198c09c84502cee13f546aa00fc3fa8f5f"
    }
   }
  }
 },
 "nbformat": 4,
 "nbformat_minor": 2,
 "cells": [
  {
   "source": [],
   "cell_type": "markdown",
   "metadata": {}
  },
  {
   "source": [
    "# 标准库\n",
    "\n",
    "## 1.1 turtle 库  绘图用\n",
    "\n",
    "- `turtle.setup(width, height[, startx, starty])` 启动画布\n",
    "- 绝对坐标\n",
    "    - `turtle.goto(绝对坐标)`\n",
    "    - 坐标系：正中间为(0, 0)，x轴向右，y轴向上\n",
    "    - 角度：角度0为向右，逆时针增加\n",
    "- 海龟坐标：按笔的方向\n",
    "    - 移动：\n",
    "        - 前 `turtle.fd(pixel)` forward\n",
    "        - 后 `turtle.bk(pixel)` back backward\n",
    "        - 转 `turtle.circle(r[, angle=360])`\n",
    "    - 改变自身角度\n",
    "        - `turtle.setheading(angle)` 绝对角度，别名 `seth()`\n",
    "        - `turtle.left(angle)`, `turtle.right(angle)`\n",
    "- 笔控制：\n",
    "    - 只有下笔了才会画出图像\n",
    "        - `turtle.pendown()` 别名 `pu()` `down()`\n",
    "        - `turtle.penup()` 别名 `pd()` `up()`\n",
    "    - 宽度 `turtle.pensize(width)` 别名 `turtle.width(width)`\n",
    "    - `turtle.pencolor(color)` 颜色字符串 or R,G,B\n",
    "- RGB\n",
    "    - 默认采用小数值\n",
    "    - 修改模式 `turtle.colormode(mode)` 1.0 or 255\n",
    "\n"
   ],
   "cell_type": "markdown",
   "metadata": {}
  },
  {
   "cell_type": "code",
   "execution_count": 1,
   "metadata": {},
   "outputs": [],
   "source": [
    "import turtle as t\n",
    "\n",
    "t.up()\n",
    "t.pensize(20)\n",
    "t.goto(-175, 175)\n",
    "t.down()\n",
    "t.goto(-25, 175)\n",
    "t.goto(-100, 175)\n",
    "t.seth(90)\n",
    "t.goto(-100, -100)\n",
    "t.circle(75, -90)\n",
    "t.up()\n",
    "t.goto(25, 175)\n",
    "t.down()\n",
    "t.goto(175, 175)\n",
    "t.goto(100, 175)\n",
    "t.goto(100, -175)"
   ]
  },
  {
   "cell_type": "code",
   "execution_count": 2,
   "metadata": {},
   "outputs": [],
   "source": [
    "t.done()"
   ]
  },
  {
   "source": [
    "## 1.2 random 库\n",
    "\n",
    "- 基本随机数函数：\n",
    "    - `seed()` 初始化给定的随机数种子，默认为当前系统时间\n",
    "    - `random()` 生成一个`[0.0, 1.0)`之间的随机小数\n",
    "- 扩展随机数函数：\n",
    "    - `randint(a, b)` 生成一个`[a, b]`之间的整数\n",
    "    - `getrandbits(k)` 生成一个k比特长的随机整数\n",
    "    - `uniform(a, b)` 生成一个`[a, b]`之间的随机小数\n",
    "    - `randrange(m, n[, k])` 生成一个[m, n)之间以k为步长的随机整数\n",
    "    - `choice(seq)` 从序列seq中随机选择一个元素\n",
    "    - `shuffle(seq)` 将序列seq中元素随机排列，返回打乱后的序列"
   ],
   "cell_type": "markdown",
   "metadata": {}
  },
  {
   "cell_type": "code",
   "execution_count": 3,
   "metadata": {},
   "outputs": [
    {
     "output_type": "execute_result",
     "data": {
      "text/plain": [
       "0.17904456391195145"
      ]
     },
     "metadata": {},
     "execution_count": 3
    }
   ],
   "source": [
    "import random\n",
    "random.random()"
   ]
  },
  {
   "source": [
    "### 例子 算 $\\pi$\n",
    "\n",
    "#### 公式法\n",
    "\n",
    "$$\n",
    "\\pi=\\sum^{\\infty}_{k=0}[\n",
    "    \\frac{1}{16^k}\n",
    "    (\n",
    "        \\frac{4}{8k+1} -\n",
    "        \\frac{2}{8k+4} -\n",
    "        \\frac{1}{8k+5} -\n",
    "        \\frac{1}{8k+6}\n",
    "    )\n",
    "]\n",
    "$$"
   ],
   "cell_type": "markdown",
   "metadata": {}
  },
  {
   "cell_type": "code",
   "execution_count": 4,
   "metadata": {},
   "outputs": [
    {
     "output_type": "stream",
     "name": "stdout",
     "text": [
      "圆周率值是: 3.141592653589793\n"
     ]
    }
   ],
   "source": [
    "pi = 0\n",
    "N = 100\n",
    "for k in range(N):\n",
    "    pi += 1/pow(16,k) * \\\n",
    "        (4/(8*k+1) - 2/(8*k+4) - 1/(8*k+5) - 1/(8*k+6))\n",
    "print(\"圆周率值是: {}\".format(pi))"
   ]
  },
  {
   "source": [
    "#### 蒙特卡洛算法\n",
    "\n",
    "足量，随机撒点，确定特定图形的面积"
   ],
   "cell_type": "markdown",
   "metadata": {}
  },
  {
   "cell_type": "code",
   "execution_count": 5,
   "metadata": {},
   "outputs": [
    {
     "output_type": "stream",
     "name": "stdout",
     "text": [
      "圆周率值是: 3.140416\n运行时间是: 0.60578s\n"
     ]
    }
   ],
   "source": [
    "from random import random\n",
    "from time import perf_counter\n",
    "DARTS = 1_000_000 # 撒点的总数量\n",
    "hits = 0 # 在圆内的点数\n",
    "start = perf_counter()\n",
    "for i in range(1, DARTS+1):\n",
    "    x, y = random(), random() # 生成随机数坐标值\n",
    "    dist = pow(x ** 2 + y ** 2, 0.5)  # 看到圆心的距离是否小于1\n",
    "    if dist <= 1.0:\n",
    "        hits = hits + 1\n",
    "pi = 4 * (hits/DARTS)  # 四分之一圆的面积为 pi r^2 / 4\n",
    "print(\"圆周率值是: {}\".format(pi))\n",
    "print(\"运行时间是: {:.5f}s\".format(perf_counter()-start))"
   ]
  },
  {
   "source": [
    "## 1.3 time 库\n",
    "\n",
    "- 时间获取：\n",
    "    - `time()` 1970年后经过的浮点秒数\n",
    "    - `ctime()` 获取当前时间并以易读方式表示，返回字符串\n",
    "    - `gmtime()` 获取当前时间，表示为计算机可处理的时间格式\n",
    "- 时间格式化：\n",
    "    - `strftime(tpl, ts)` 机器时间 -> str\n",
    "        - tpl 格式化模板字符串，ts计算机可处理的时间格式\n",
    "        - time.strftime(\"%Y-%m-%d %H:%M:%S\", time.gmtime())\n",
    "        \n",
    "    - `strptime(str, tpl)` str -> 机器时间\n",
    "        - str是字符串形式的时间值，tpl是格式化模板字符串\n",
    "- 程序计时：\n",
    "    - `sleep()`\n",
    "    - `perf_counter()` 返回一个CPU级别的精确时间计数值，单位为秒\n",
    "        - 由于计数起点不确定，连续调用差值才有意义\n",
    "\n",
    "\n",
    "格式化字符串 | 日期/时间说明 | 值范围和实例\n",
    ":--:|--|--\n",
    "%Y | 年份 | 0000~9999，例如：1900\n",
    "%m | 月份 | 01~12，例如：10\n",
    "%B | 月份名称 | January~December，例如：April\n",
    "%b | 月份名称缩写 | Jan~Dec，例如：Apr\n",
    "%d | 日期 | 01~31，例如：25\n",
    "%A | 星期 | Monday~Sunday，例如：Wednesday\n",
    "%a | 星期缩写 | Mon~Sun，例如：Wed\n",
    "%H | 小时（24h制）|  00~23，例如：12\n",
    "%I | 小时（12h制）|  01~12，例如：7\n",
    "%p | 上/下午 | AM, PM，例如：PM\n",
    "%M | 分钟 | 00~59，例如：26\n",
    "%S | 秒 | 00~59，例如：26"
   ],
   "cell_type": "markdown",
   "metadata": {}
  },
  {
   "cell_type": "code",
   "execution_count": 6,
   "metadata": {},
   "outputs": [],
   "source": [
    "import time"
   ]
  },
  {
   "cell_type": "code",
   "execution_count": 7,
   "metadata": {},
   "outputs": [
    {
     "output_type": "execute_result",
     "data": {
      "text/plain": [
       "1613737337.6431336"
      ]
     },
     "metadata": {},
     "execution_count": 7
    }
   ],
   "source": [
    "time.time()"
   ]
  },
  {
   "cell_type": "code",
   "execution_count": 8,
   "metadata": {},
   "outputs": [
    {
     "output_type": "execute_result",
     "data": {
      "text/plain": [
       "'Fri Feb 19 20:22:17 2021'"
      ]
     },
     "metadata": {},
     "execution_count": 8
    }
   ],
   "source": [
    "time.ctime()"
   ]
  },
  {
   "cell_type": "code",
   "execution_count": 9,
   "metadata": {},
   "outputs": [
    {
     "output_type": "execute_result",
     "data": {
      "text/plain": [
       "time.struct_time(tm_year=2021, tm_mon=2, tm_mday=19, tm_hour=12, tm_min=22, tm_sec=17, tm_wday=4, tm_yday=50, tm_isdst=0)"
      ]
     },
     "metadata": {},
     "execution_count": 9
    }
   ],
   "source": [
    "t = time.gmtime()\n",
    "t"
   ]
  },
  {
   "cell_type": "code",
   "execution_count": 10,
   "metadata": {},
   "outputs": [
    {
     "output_type": "execute_result",
     "data": {
      "text/plain": [
       "'2021年02月19日 12时22分17秒'"
      ]
     },
     "metadata": {},
     "execution_count": 10
    }
   ],
   "source": [
    "time_template  = \"%Y年%m月%d日 %H时%M分%S秒\"\n",
    "t_str = time.strftime(time_template, t)\n",
    "t_str"
   ]
  },
  {
   "cell_type": "code",
   "execution_count": 11,
   "metadata": {},
   "outputs": [
    {
     "output_type": "execute_result",
     "data": {
      "text/plain": [
       "time.struct_time(tm_year=2021, tm_mon=2, tm_mday=19, tm_hour=12, tm_min=22, tm_sec=17, tm_wday=4, tm_yday=50, tm_isdst=-1)"
      ]
     },
     "metadata": {},
     "execution_count": 11
    }
   ],
   "source": [
    "time.strptime(t_str, time_template)"
   ]
  },
  {
   "source": [
    "### 实战 进度条\n",
    "\n",
    "- 采用字符串方式打印可以动态变化的文本进度条\n",
    "- 进度条需要能在一行中逐渐变化\n",
    "\n",
    "刷新的关键是 \\r：退回光标 end=\"\" 不换行"
   ],
   "cell_type": "markdown",
   "metadata": {}
  },
  {
   "cell_type": "code",
   "execution_count": 12,
   "metadata": {},
   "outputs": [
    {
     "output_type": "stream",
     "name": "stdout",
     "text": [
      "------执行开始------\n",
      "0%  [..........]\n",
      "10% [=.........]\n",
      "20% [==........]\n",
      "30% [===.......]\n",
      "40% [====......]\n",
      "50% [=====.....]\n",
      "60% [======....]\n",
      "70% [=======...]\n",
      "80% [========..]\n",
      "90% [=========.]\n",
      "100%[==========]\n",
      "------执行结束------\n"
     ]
    }
   ],
   "source": [
    "# version 0.1 动态变化进度条\n",
    "\n",
    "scale = 10\n",
    "print(\"------执行开始------\")\n",
    "for i in range(scale+1):\n",
    "    a = '=' * i\n",
    "    b = '.' * (scale - i)\n",
    "    print(\"{:<4.0%}[{}{}]\".format(i/scale,a,b))\n",
    "    time.sleep(0.1)\n",
    "print(\"------执行结束------\")"
   ]
  },
  {
   "cell_type": "code",
   "execution_count": 13,
   "metadata": {},
   "outputs": [
    {
     "output_type": "stream",
     "name": "stdout",
     "text": [
      "---------------执行开始--------------\n",
      "100.0%[=======================]2.51s\n",
      "---------------执行结束--------------\n"
     ]
    }
   ],
   "source": [
    "# version 1 实现单行刷新\n",
    "scale = 23\n",
    "print(\"执行开始\".center(scale + 10, \"-\"))\n",
    "start = time.perf_counter()\n",
    "for i in range(scale+1):\n",
    "    a = '=' * i\n",
    "    b = '.' * (scale - i)\n",
    "    dur = time.perf_counter() - start\n",
    "    print(\"\\r{:>6.1%}[{}{}]{:.2f}s\".format(i/scale,a,b,dur),end='')\n",
    "    time.sleep(0.1)\n",
    "print(\"\\n\"+\"执行结束\".center(scale + 10, '-'))"
   ]
  }
 ]
}