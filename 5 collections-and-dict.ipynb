{
 "metadata": {
  "language_info": {
   "codemirror_mode": {
    "name": "ipython",
    "version": 3
   },
   "file_extension": ".py",
   "mimetype": "text/x-python",
   "name": "python",
   "nbconvert_exporter": "python",
   "pygments_lexer": "ipython3",
   "version": "3.8.5"
  },
  "orig_nbformat": 2,
  "kernelspec": {
   "name": "python3",
   "display_name": "Python 3.8.5 64-bit",
   "metadata": {
    "interpreter": {
     "hash": "16e3f6170213bc8b93f4af10cda404198c09c84502cee13f546aa00fc3fa8f5f"
    }
   }
  }
 },
 "nbformat": 4,
 "nbformat_minor": 2,
 "cells": [
  {
   "source": [
    "# 五、 组合数据类型\n",
    "\n",
    "1. 组合数据类型的基本概念。\n",
    "2. 列表类型：定义、索引、切片。\n",
    "3. 列表类型的操作：列表的操作函数、列表的操作方法。\n",
    "4. 字典类型：定义、索引。\n",
    "5. 字典类型的操作：字典的操作函数、字典的操作方法。"
   ],
   "cell_type": "markdown",
   "metadata": {}
  },
  {
   "source": [
    "## set 集合\n",
    "\n",
    "- 集合用大括号 `{}` 表示，元素间用逗号分隔\n",
    "- 建立集合类型用 `{}` 或 `set()`\n",
    "- 建立空集合类型，必须使用`set()` 不然是字典\n",
    "\n",
    "正常的数学集合运算\n",
    "- `S | T` 并，返回新集合，包括在集合S和T中的所有元素\n",
    "- `S - T` 差，返回新集合，包括在集合S但不在T中的元素\n",
    "- `S & T` 交，返回新集合，包括同时在集合S和T中的元素\n",
    "- `S ^ T` 补，返回新集合，包括集合S和T中的非相同元素\n",
    "- `S <= T` 或 `S < T` 判断S和T的子集关系，返回True/False\n",
    "- `S >= T` 或 `S > T` 判断S和T的包含关系，返回True/False\n",
    "\n",
    "函数和方法\n",
    "- `S.copy()` 返回集合S的一个副本\n",
    "- `len(S)` 返回集合S的元素个数\n",
    "- `x in S` 判断S中元素x，x在集合S中，返回True，否则返回False\n",
    "- `x not in S` 判断S中元素x，x不在集合S中，返回True，否则返回False\n",
    "- `set(x)` 将其他类型变量x转变为集合类型"
   ],
   "cell_type": "markdown",
   "metadata": {}
  },
  {
   "source": [
    "### 运算"
   ],
   "cell_type": "markdown",
   "metadata": {}
  },
  {
   "cell_type": "code",
   "execution_count": 1,
   "metadata": {},
   "outputs": [
    {
     "output_type": "stream",
     "name": "stdout",
     "text": [
      "a {'y', 314, 'p'}\nb {'p', '4', 'y', '3', '1'}\n"
     ]
    }
   ],
   "source": [
    "a = {\"p\", \"y\" , 314} \n",
    "b = set(\"pypy314\")\n",
    "print(\"a\", a)\n",
    "print(\"b\", b)"
   ]
  },
  {
   "cell_type": "code",
   "execution_count": 2,
   "metadata": {},
   "outputs": [
    {
     "output_type": "execute_result",
     "data": {
      "text/plain": [
       "{314}"
      ]
     },
     "metadata": {},
     "execution_count": 2
    }
   ],
   "source": [
    "a-b"
   ]
  },
  {
   "cell_type": "code",
   "execution_count": 3,
   "metadata": {},
   "outputs": [
    {
     "output_type": "execute_result",
     "data": {
      "text/plain": [
       "{'1', '3', '4'}"
      ]
     },
     "metadata": {},
     "execution_count": 3
    }
   ],
   "source": [
    "b-a"
   ]
  },
  {
   "cell_type": "code",
   "execution_count": 4,
   "metadata": {},
   "outputs": [
    {
     "output_type": "execute_result",
     "data": {
      "text/plain": [
       "{'p', 'y'}"
      ]
     },
     "metadata": {},
     "execution_count": 4
    }
   ],
   "source": [
    "a&b"
   ]
  },
  {
   "cell_type": "code",
   "execution_count": 5,
   "metadata": {},
   "outputs": [
    {
     "output_type": "execute_result",
     "data": {
      "text/plain": [
       "{'1', '3', 314, '4', 'p', 'y'}"
      ]
     },
     "metadata": {},
     "execution_count": 5
    }
   ],
   "source": [
    "a|b"
   ]
  },
  {
   "cell_type": "code",
   "execution_count": 6,
   "metadata": {},
   "outputs": [
    {
     "output_type": "execute_result",
     "data": {
      "text/plain": [
       "{'1', '3', 314, '4'}"
      ]
     },
     "metadata": {},
     "execution_count": 6
    }
   ],
   "source": [
    "a^b"
   ]
  },
  {
   "source": [
    "### 操作"
   ],
   "cell_type": "markdown",
   "metadata": {}
  },
  {
   "cell_type": "code",
   "execution_count": 7,
   "metadata": {},
   "outputs": [
    {
     "output_type": "execute_result",
     "data": {
      "text/plain": [
       "False"
      ]
     },
     "metadata": {},
     "execution_count": 7
    }
   ],
   "source": [
    "{\"p\", \"y\"} in {\"p\", \"y\" , 123}"
   ]
  },
  {
   "source": [
    "## 序列\n",
    "\n",
    "- 元组tuple `( , , ,)`：无法改变，只能查\n",
    "- 字符串str：一种元组\n",
    "- 列表list `[ , , ,]`：可以增删改查\n",
    "\n",
    "操作符\n",
    "- `x in s` 如果x是序列s的元素，返回True，否则返回False\n",
    "- `x not in s` 如果x是序列s的元素，返回False，否则返回True\n",
    "- `s + t` 连接两个序列s和t\n",
    "- `s*n` 或 `n*s` 将序列s复制n次\n",
    "- `s[i]` 索引，返回s中的第i个元素，i是序列的序号\n",
    "- `s[i: j]` 或 `s[i: j: k]` 切片，返回序列s中第i到j以k为步长的元素子序列\n",
    "\n",
    "通用函数、方法\n",
    "- `len(s)` 返回序列s的长度，即元素个数\n",
    "- `min(s)` 返回序列s的最小元素，s中元素需要可比较\n",
    "- `max(s)` 返回序列s的最大元素，s中元素需要可比较\n",
    "- `s.index(x)` 或\n",
    "- `s.index(x, i, j)` 返回序列s从i开始到j位置中第一次出现元素x的位置\n",
    "- `s.count(x)` 返回序列s中出现x的总次数"
   ],
   "cell_type": "markdown",
   "metadata": {}
  },
  {
   "cell_type": "code",
   "execution_count": 8,
   "metadata": {},
   "outputs": [
    {
     "output_type": "execute_result",
     "data": {
      "text/plain": [
       "('cat', 'dog', 'tiger', 'human')"
      ]
     },
     "metadata": {},
     "execution_count": 8
    }
   ],
   "source": [
    "creature = \"cat\", \"dog\", \"tiger\", \"human\"\n",
    "creature"
   ]
  },
  {
   "cell_type": "code",
   "execution_count": 9,
   "metadata": {},
   "outputs": [
    {
     "output_type": "execute_result",
     "data": {
      "text/plain": [
       "('human', 'dog')"
      ]
     },
     "metadata": {},
     "execution_count": 9
    }
   ],
   "source": [
    "creature[::-2]"
   ]
  },
  {
   "cell_type": "code",
   "execution_count": 10,
   "metadata": {},
   "outputs": [
    {
     "output_type": "execute_result",
     "data": {
      "text/plain": [
       "'tiger'"
      ]
     },
     "metadata": {},
     "execution_count": 10
    }
   ],
   "source": [
    "(123, creature)[1][2]"
   ]
  },
  {
   "cell_type": "code",
   "execution_count": 11,
   "metadata": {},
   "outputs": [
    {
     "output_type": "execute_result",
     "data": {
      "text/plain": [
       "('cat', 'dog', 'tiger', 'human', 'cat', 'dog', 'tiger', 'human')"
      ]
     },
     "metadata": {},
     "execution_count": 11
    }
   ],
   "source": [
    "creature * 2"
   ]
  },
  {
   "cell_type": "code",
   "execution_count": 12,
   "metadata": {},
   "outputs": [
    {
     "output_type": "execute_result",
     "data": {
      "text/plain": [
       "'tiger'"
      ]
     },
     "metadata": {},
     "execution_count": 12
    }
   ],
   "source": [
    "max(creature) # t 字符最大"
   ]
  },
  {
   "source": [
    "### list\n",
    "\n",
    "list 操作\n",
    "- `ls[i]` = x 替换列表ls第i元素为x\n",
    "- `ls[i: j: k]` = lt 用列表lt替换ls切片后所对应元素子列表\n",
    "- `del ls[i]` 删除列表ls中第i元素\n",
    "- `del ls[i: j: k]` 删除列表ls中第i到第j以k为步长的元素\n",
    "- `ls += lt` 更新列表ls，将列表lt元素增加到列表ls中\n",
    "- `ls *= n` 更新列表ls，其元素重复n次\n",
    "\n",
    "list 方法\n",
    "- `ls.append(x)` 在列表ls最后增加一个元素x\n",
    "- `ls.clear()` 删除列表ls中所有元素\n",
    "- `ls.copy()` 生成一个新列表，赋值ls中所有元素\n",
    "- `ls.insert(i,x)` 在列表ls的第i位置增加元素x\n",
    "- `ls.pop(i)` 将列表ls中第i位置元素取出并删除该元素，默认结尾\n",
    "- `ls.remove(x)` 将列表ls中出现的第一个元素x删除\n",
    "- `ls.reverse()` 将列表ls中的元素反转"
   ],
   "cell_type": "markdown",
   "metadata": {}
  },
  {
   "cell_type": "code",
   "execution_count": 13,
   "metadata": {},
   "outputs": [
    {
     "output_type": "execute_result",
     "data": {
      "text/plain": [
       "['cat', 'dog', 'tiger', 'human']"
      ]
     },
     "metadata": {},
     "execution_count": 13
    }
   ],
   "source": [
    "creature = list(creature)\n",
    "creature"
   ]
  },
  {
   "cell_type": "code",
   "execution_count": 14,
   "metadata": {},
   "outputs": [
    {
     "output_type": "execute_result",
     "data": {
      "text/plain": [
       "['cat', 'dog', 'tiger', 'human', 'panda']"
      ]
     },
     "metadata": {},
     "execution_count": 14
    }
   ],
   "source": [
    "creature.append(\"panda\")\n",
    "creature"
   ]
  },
  {
   "cell_type": "code",
   "execution_count": 15,
   "metadata": {},
   "outputs": [
    {
     "output_type": "execute_result",
     "data": {
      "text/plain": [
       "['cat', 'monkey', 'dog', 'tiger', 'human', 'panda']"
      ]
     },
     "metadata": {},
     "execution_count": 15
    }
   ],
   "source": [
    "creature.insert(1, \"monkey\")\n",
    "creature"
   ]
  },
  {
   "cell_type": "code",
   "execution_count": 16,
   "metadata": {},
   "outputs": [
    {
     "output_type": "execute_result",
     "data": {
      "text/plain": [
       "['panda', 'human', 'tiger', 'dog', 'monkey', 'cat']"
      ]
     },
     "metadata": {},
     "execution_count": 16
    }
   ],
   "source": [
    "creature.reverse()\n",
    "creature"
   ]
  },
  {
   "cell_type": "code",
   "execution_count": 17,
   "metadata": {},
   "outputs": [
    {
     "output_type": "execute_result",
     "data": {
      "text/plain": [
       "'cat'"
      ]
     },
     "metadata": {},
     "execution_count": 17
    }
   ],
   "source": [
    "creature.pop()"
   ]
  },
  {
   "cell_type": "code",
   "execution_count": 18,
   "metadata": {},
   "outputs": [
    {
     "output_type": "execute_result",
     "data": {
      "text/plain": [
       "['panda', 'human', 'tiger', 'dog', 'monkey']"
      ]
     },
     "metadata": {},
     "execution_count": 18
    }
   ],
   "source": [
    "creature"
   ]
  },
  {
   "cell_type": "code",
   "execution_count": 19,
   "metadata": {},
   "outputs": [
    {
     "output_type": "execute_result",
     "data": {
      "text/plain": [
       "['panda', 'human', 'tiger', 'dog', 'monkey', 'panda']"
      ]
     },
     "metadata": {},
     "execution_count": 19
    }
   ],
   "source": [
    "creature.append(\"panda\")\n",
    "creature"
   ]
  },
  {
   "cell_type": "code",
   "execution_count": 20,
   "metadata": {},
   "outputs": [
    {
     "output_type": "execute_result",
     "data": {
      "text/plain": [
       "['human', 'tiger', 'dog', 'monkey', 'panda']"
      ]
     },
     "metadata": {},
     "execution_count": 20
    }
   ],
   "source": [
    "creature.remove(\"panda\")\n",
    "creature"
   ]
  },
  {
   "source": [
    "## dict\n",
    "\n",
    "一组键值对：`{<键1>:<值1>, <键2>:<值2>, … , <键n>:<值n>}`\n",
    "\n",
    "- 键值对：键是数据索引的扩展\n",
    "- 字典是键值对的集合，键值对之间无序\n",
    "- 采用大括号`{}`和`dict()`创建，键值对用冒号`:` 表示\n",
    "\n",
    "\n",
    "[ ] 用来向字典变量中索引或增加元素\n",
    "- `<值> = <字典变量>[<键>]`\n",
    "- `<字典变量>[<键>] = <值>`\n",
    "\n",
    "函数和方法\n",
    "- `del d[k]` 删除字典d中键k对应的数据值\n",
    "- `k in d` 判断键k是否在字典d中，如果在返回True，否则False\n",
    "- `d.keys()` 返回字典d中所有的键信息\n",
    "- `d.values()` 返回字典d中所有的值信息\n",
    "- `d.items()` 返回字典d中所有的键值对信息\n",
    "- `d.get(k, <default>)` 键k存在，则返回相应值，不在则返回<default>值\n",
    "- `d.pop(k, <default>)` 键k存在，则取出相应值，不在则返回<default>值\n",
    "- `d.popitem()` 随机从字典d中取出一个键值对，以元组形式返回\n",
    "- `d.clear()` 删除所有的键值对\n",
    "- `len(d)` 返回字典d中元素的个数"
   ],
   "cell_type": "markdown",
   "metadata": {}
  },
  {
   "cell_type": "code",
   "execution_count": 21,
   "metadata": {},
   "outputs": [
    {
     "output_type": "execute_result",
     "data": {
      "text/plain": [
       "{'中国': '北京', '美国': '华盛顿', '法国': '巴黎'}"
      ]
     },
     "metadata": {},
     "execution_count": 21
    }
   ],
   "source": [
    "d = {\"中国\":\"北京\", \"美国\":\"华盛顿\", \"法国\":\"巴黎\"}\n",
    "d"
   ]
  },
  {
   "cell_type": "code",
   "execution_count": 22,
   "metadata": {},
   "outputs": [
    {
     "output_type": "execute_result",
     "data": {
      "text/plain": [
       "True"
      ]
     },
     "metadata": {},
     "execution_count": 22
    }
   ],
   "source": [
    "\"中国\" in d"
   ]
  },
  {
   "cell_type": "code",
   "execution_count": 23,
   "metadata": {},
   "outputs": [
    {
     "output_type": "execute_result",
     "data": {
      "text/plain": [
       "False"
      ]
     },
     "metadata": {},
     "execution_count": 23
    }
   ],
   "source": [
    "\"北京\" in d"
   ]
  },
  {
   "cell_type": "code",
   "execution_count": 24,
   "metadata": {},
   "outputs": [
    {
     "output_type": "execute_result",
     "data": {
      "text/plain": [
       "dict_keys(['中国', '美国', '法国'])"
      ]
     },
     "metadata": {},
     "execution_count": 24
    }
   ],
   "source": [
    "d.keys()"
   ]
  },
  {
   "cell_type": "code",
   "execution_count": 25,
   "metadata": {},
   "outputs": [
    {
     "output_type": "execute_result",
     "data": {
      "text/plain": [
       "dict_values(['北京', '华盛顿', '巴黎'])"
      ]
     },
     "metadata": {},
     "execution_count": 25
    }
   ],
   "source": [
    "d.values()"
   ]
  },
  {
   "cell_type": "code",
   "execution_count": 26,
   "metadata": {},
   "outputs": [
    {
     "output_type": "execute_result",
     "data": {
      "text/plain": [
       "dict_items([('中国', '北京'), ('美国', '华盛顿'), ('法国', '巴黎')])"
      ]
     },
     "metadata": {},
     "execution_count": 26
    }
   ],
   "source": [
    "d.items()"
   ]
  },
  {
   "cell_type": "code",
   "execution_count": 27,
   "metadata": {},
   "outputs": [
    {
     "output_type": "execute_result",
     "data": {
      "text/plain": [
       "'北京'"
      ]
     },
     "metadata": {},
     "execution_count": 27
    }
   ],
   "source": [
    "d.get(\"中国\",\"伊斯兰堡\")"
   ]
  },
  {
   "cell_type": "code",
   "execution_count": 28,
   "metadata": {},
   "outputs": [
    {
     "output_type": "execute_result",
     "data": {
      "text/plain": [
       "'伊斯兰堡'"
      ]
     },
     "metadata": {},
     "execution_count": 28
    }
   ],
   "source": [
    "d.get(\"巴基斯坦\",\"伊斯兰堡\")"
   ]
  },
  {
   "cell_type": "code",
   "execution_count": 29,
   "metadata": {},
   "outputs": [
    {
     "output_type": "execute_result",
     "data": {
      "text/plain": [
       "('法国', '巴黎')"
      ]
     },
     "metadata": {},
     "execution_count": 29
    }
   ],
   "source": [
    "d.popitem()"
   ]
  },
  {
   "cell_type": "code",
   "execution_count": 30,
   "metadata": {},
   "outputs": [
    {
     "output_type": "execute_result",
     "data": {
      "text/plain": [
       "{'中国': '北京', '美国': '华盛顿'}"
      ]
     },
     "metadata": {},
     "execution_count": 30
    }
   ],
   "source": [
    "d"
   ]
  },
  {
   "cell_type": "code",
   "execution_count": 31,
   "metadata": {},
   "outputs": [
    {
     "output_type": "execute_result",
     "data": {
      "text/plain": [
       "'北京'"
      ]
     },
     "metadata": {},
     "execution_count": 31
    }
   ],
   "source": [
    "d.pop(\"中国\")"
   ]
  },
  {
   "cell_type": "code",
   "execution_count": 32,
   "metadata": {},
   "outputs": [
    {
     "output_type": "execute_result",
     "data": {
      "text/plain": [
       "{'美国': '华盛顿'}"
      ]
     },
     "metadata": {},
     "execution_count": 32
    }
   ],
   "source": [
    "d"
   ]
  }
 ]
}