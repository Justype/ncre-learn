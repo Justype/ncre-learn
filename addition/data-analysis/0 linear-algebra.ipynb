{
 "metadata": {
  "language_info": {
   "codemirror_mode": {
    "name": "ipython",
    "version": 3
   },
   "file_extension": ".py",
   "mimetype": "text/x-python",
   "name": "python",
   "nbconvert_exporter": "python",
   "pygments_lexer": "ipython3",
   "version": 3
  },
  "orig_nbformat": 2
 },
 "nbformat": 4,
 "nbformat_minor": 2,
 "cells": [
  {
   "source": [
    "# 线性代数\n",
    "\n",
    "学数据分析的时候发现线性代数全忘了，于是复习一下。\n",
    "\n",
    "看了一下`3Blue1Brown`的[视频](https://www.bilibili.com/video/av6731067/) \n",
    "\n",
    "两种理解？：\n",
    "\n",
    "1. Geometric -- understanding\n",
    "2. numeric -- computations\n",
    "\n",
    "Preview\n",
    "\n",
    "1. 矩阵 Matrices Transform Space 空间线性变换\n",
    "2. 矩阵乘法 Matrix multiplication corresponds to applying one transformation after another\n",
    "3. 行列式：区域的变化因子 The determinant gives the factor by which areas change"
   ],
   "cell_type": "markdown",
   "metadata": {}
  },
  {
   "source": [
    "## 行列式 determinant\n",
    "\n",
    "### 二阶\n",
    "\n",
    "方程组\n",
    "$$\n",
    "\\begin{cases}\n",
    "    a_{11}x_1 + a_{12}x_2 = b_1 &(1) \\\\\n",
    "    a_{12}x_1 + a_{22}x_2 = b_2 &(2)\n",
    "\\end{cases} \\\\\n",
    "$$\n",
    "\n",
    "解：\n",
    "$$\n",
    "x_1 = \\frac{a_{22}b_1-a_{12}b_2}{a_{11}a_{22}-a_{12}a_{21}},\n",
    "x_2 = \\frac{a_{11}b_2-a_{21}b_2}{a_{11}a_{22}-a_{12}a_{21}}\n",
    "$$"
   ],
   "cell_type": "markdown",
   "metadata": {}
  }
 ]
}