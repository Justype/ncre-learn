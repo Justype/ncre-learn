{
 "metadata": {
  "language_info": {
   "codemirror_mode": {
    "name": "ipython",
    "version": 3
   },
   "file_extension": ".py",
   "mimetype": "text/x-python",
   "name": "python",
   "nbconvert_exporter": "python",
   "pygments_lexer": "ipython3",
   "version": "3.8.5"
  },
  "orig_nbformat": 2,
  "kernelspec": {
   "name": "python3",
   "display_name": "Python 3.8.5 64-bit",
   "metadata": {
    "interpreter": {
     "hash": "16e3f6170213bc8b93f4af10cda404198c09c84502cee13f546aa00fc3fa8f5f"
    }
   }
  }
 },
 "nbformat": 4,
 "nbformat_minor": 2,
 "cells": [
  {
   "source": [
    "# 第三方库\n",
    "\n",
    "## 安装\n",
    "\n",
    "使用包管理工具：`pip`, `conda` 之类的\n",
    "- `pip install <包名>`"
   ],
   "cell_type": "markdown",
   "metadata": {}
  },
  {
   "source": [
    "## PyInstaller\n",
    "\n",
    "将.py源代码转换成无需源代码的可执行文件\n",
    "\n",
    "安装：`pip install pyinstaller`\n",
    "\n",
    "在命令行工具中使用：cmd or powershell or terminal\n",
    "- `$ pyinstaller -F <文件名.py>`\n",
    "\n",
    "参数 | 描述\n",
    ":--: | --\n",
    "-h |查看帮助\n",
    "--clean | 清理打包过程中的临时文件\n",
    "-D, --onedir | 默认值，生成dist文件夹\n",
    "-F, --onefile | 在dist文件夹中只生成独立的打包文件\n",
    "-i <图标.ico> | 指定打包程序使用的图标(icon)文件\n",
    "\n",
    "tip:\n",
    "命令行工具不会用：直接 `工具 --help` 或 `工具 help`\n"
   ],
   "cell_type": "markdown",
   "metadata": {}
  },
  {
   "source": [
    "## jieba库\n",
    "\n",
    "- 优秀的中文分词第三方库\n",
    "- 提供三种分词模式，最简单只需掌握一个函数\n",
    "\n",
    "安装：`pip install jieba`\n",
    "\n",
    "### 分词的原理\n",
    "\n",
    "依靠中文词库\n",
    "- 利用一个中文词库，确定中文字符之间的关联概率\n",
    "- 中文字符间概率大的组成词组，形成分词结果\n",
    "- 除了分词，用户还可以添加自定义的词组\n",
    "\n",
    "### 三种模式\n",
    "\n",
    "- 精确模式：把文本精确的切分开，不存在冗余单词 `jieba.lcut(str)`\n",
    "- 全模式：把文本中所有可能的词语都扫描出来，有冗余 `jieba.lcut(s,\n",
    "cut_all=True)`\n",
    "- 搜索引擎模式：在精确模式基础上，对长词再次切分 `jieba.lcut_for_sear\n",
    "ch(s)`"
   ],
   "cell_type": "markdown",
   "metadata": {}
  },
  {
   "cell_type": "code",
   "execution_count": 1,
   "metadata": {},
   "outputs": [],
   "source": [
    "import jieba"
   ]
  },
  {
   "cell_type": "code",
   "execution_count": 2,
   "metadata": {},
   "outputs": [
    {
     "output_type": "stream",
     "name": "stderr",
     "text": [
      "Building prefix dict from the default dictionary ...\n",
      "Loading model from cache C:\\Users\\Cheng\\AppData\\Local\\Temp\\jieba.cache\n",
      "Loading model cost 0.742 seconds.\n",
      "Prefix dict has been built successfully.\n"
     ]
    },
    {
     "output_type": "execute_result",
     "data": {
      "text/plain": [
       "['说实话', '，', '我', '不', '喜欢']"
      ]
     },
     "metadata": {},
     "execution_count": 2
    }
   ],
   "source": [
    "jieba.lcut(\"\"\"说实话，我不喜欢Python这种弱类型语言，反而我更喜欢C#、Rust这些强类型语言，编译器就能为我们解决很多问题。\n",
    "但脚本语言也有存在的意义，就是用来写脚本的。\"\"\")[:5]"
   ]
  },
  {
   "source": [
    "### 应用 词频分析"
   ],
   "cell_type": "markdown",
   "metadata": {}
  },
  {
   "cell_type": "code",
   "execution_count": 3,
   "metadata": {},
   "outputs": [
    {
     "output_type": "stream",
     "name": "stdout",
     "text": [
      "曹操   \t  953\n孔明   \t  836\n将军   \t  772\n却说   \t  656\n玄德   \t  585\n关公   \t  510\n丞相   \t  491\n二人   \t  469\n不可   \t  440\n荆州   \t  425\n玄德曰  \t  390\n孔明曰  \t  390\n不能   \t  384\n如此   \t  378\n张飞   \t  358\n"
     ]
    }
   ],
   "source": [
    "import jieba\n",
    "\n",
    "txt = open(\"assets/三国演义.txt\", \"r\", encoding=\"utf-8\").read()\n",
    "words = jieba.lcut(txt)\n",
    "counts = {}\n",
    "for word in words:\n",
    "    if len(word) == 1:\n",
    "        continue\n",
    "    else:\n",
    "        counts[word] = counts.get(word,0) + 1 # 不存在则为0\n",
    "\n",
    "items = list(counts.items()) # 转换成 (词语, 频率) 元组的列表\n",
    "items.sort(key=lambda x:x[1], reverse=True) # 从大到小排序\n",
    "\n",
    "# 打印\n",
    "for i in range(15):\n",
    "    word, count = items[i]\n",
    "    print(\"{0:5}\\t{1:>5}\".format(word, count))"
   ]
  },
  {
   "cell_type": "code",
   "execution_count": 4,
   "metadata": {},
   "outputs": [
    {
     "output_type": "stream",
     "name": "stdout",
     "text": [
      "孔明   \t 1383\n刘备   \t 1252\n曹操   \t  980\n关羽   \t  784\n张飞   \t  358\n吕布   \t  300\n赵云   \t  278\n孙权   \t  264\n司马懿  \t  221\n周瑜   \t  217\n"
     ]
    }
   ],
   "source": [
    "# 人名统计 要去除非人名，合并同一个人\n",
    "\n",
    "import jieba\n",
    "txt = open(\"assets/三国演义.txt\", \"r\", encoding=\"utf-8\").read()\n",
    "excludes = {\"将军\",\"却说\",\"荆州\",\"二人\",\"不可\",\"不能\",\"如此\",\"商议\", \"丞相\", \"主公\", \"军士\", \"如何\", \"左右\", \"军马\", \"引兵\", \"次日\", \"大喜\", \"东吴\", \"天下\", \"于是\", \"今日\", \"魏兵\", \"不敢\", \"一人\", \"陛下\", \"都督\", \"人马\", \"不知\"}\n",
    "txt = txt.replace(\"曹丞相\", \"曹操\")\n",
    "words = jieba.lcut(txt)\n",
    "counts = {}\n",
    "\n",
    "# 合并指向统一人物的词\n",
    "for word in words:\n",
    "    if len(word) == 1:\n",
    "        continue\n",
    "    elif word == \"诸葛亮\" or word == \"孔明曰\":\n",
    "        rword = \"孔明\"\n",
    "    elif word == \"关公\" or word == \"云长\":\n",
    "        rword = \"关羽\"\n",
    "    elif word == \"玄德\" or word == \"玄德曰\":\n",
    "        rword = \"刘备\"\n",
    "    elif word == \"孟德\":\n",
    "        rword = \"曹操\"\n",
    "    else:\n",
    "        rword = word\n",
    "    counts[rword] = counts.get(rword,0) + 1\n",
    "for word in excludes: # 删除不要的词\n",
    "    del counts[word]\n",
    "\n",
    "items = list(counts.items())\n",
    "items.sort(key=lambda x:x[1], reverse=True)\n",
    "for i in range(10):\n",
    "    word, count = items[i]\n",
    "    print(\"{0:5}\\t{1:>5}\".format(word, count))"
   ]
  },
  {
   "source": [
    "## wordcloud\n",
    "\n",
    "- wordcloud是优秀的词云展示第三方库\n",
    "- 空格分隔词，出现的多，词越大\n",
    "\n",
    "安装：`pip install wordcloud`\n",
    "\n",
    "生成 WordCloud 词云对象：\n",
    "- 调用构造函数 `w = wordcloud.WordCloud()`\n",
    "- 参数：\n",
    "    - `width` 指定词云对象生成图片的宽度，默认400像素\n",
    "    - `height` 指定词云对象生成图片的高度，默认200像素\n",
    "    - `min_font_size` 指定词云中字体的最小字号，默认4号\n",
    "    - `max_font_size` 指定词云中字体的最大字号，根据高度自动调节\n",
    "    - `font_step` 指定词云中字体字号的步进间隔，默认为1\n",
    "    - `font_path` 指定字体文件的路径，默认None\n",
    "    - `max_words` 指定词云显示的最大单词数量，默认200\n",
    "    - `stop_words` 指定词云的排除词列表，即不显示的单词列表\n",
    "    - `mask` 指定词云形状，默认为长方形，需要引用imread()函数\n",
    "        - `from scipy.misc import imread`\n",
    "        - `mk=imread(\"pic.png\")`\n",
    "    - `background_color` 指定词云图片的背景颜色，默认为黑色\n",
    "\n",
    "方法：\n",
    "- `w.generate()`\n",
    "- `w.to_file()`"
   ],
   "cell_type": "markdown",
   "metadata": {}
  },
  {
   "cell_type": "code",
   "execution_count": 5,
   "metadata": {},
   "outputs": [
    {
     "output_type": "execute_result",
     "data": {
      "text/plain": [
       "<wordcloud.wordcloud.WordCloud at 0x19ba1b0afa0>"
      ]
     },
     "metadata": {},
     "execution_count": 5
    }
   ],
   "source": [
    "# 还是以三国演义为例子吧\n",
    "\n",
    "import jieba\n",
    "import wordcloud\n",
    "# pip install imageio\n",
    "import imageio\n",
    "\n",
    "mask = imageio.imread(\"assets/诸葛.jpg\")\n",
    "\n",
    "txt = open(\"assets/三国演义.txt\", \"r\", encoding=\"utf-8\").read()\n",
    "w = wordcloud.WordCloud( width=1000, height=700,\\\n",
    "    font_path=\"msyh.ttc\", mask=mask, background_color=\"white\")\n",
    "\n",
    "excludes = {\"将军\",\"却说\",\"荆州\",\"二人\",\"不可\",\"不能\",\"如此\",\"商议\", \"丞相\", \"主公\", \"军士\", \"如何\", \"左右\", \"军马\", \"引兵\", \"次日\", \"大喜\", \"东吴\", \"天下\", \"于是\", \"今日\", \"魏兵\", \"不敢\", \"一人\", \"陛下\", \"都督\", \"人马\", \"不知\"}\n",
    "\n",
    "words = [i for i in jieba.lcut(txt) if len(i) > 1 and i not in excludes]\n",
    "# 不要一个字的和不想要的词\n",
    "\n",
    "for i in range(len(words)):\n",
    "    if words[i] == \"诸葛亮\" or words[i] == \"孔明曰\":\n",
    "        words[i] = \"孔明\"\n",
    "    elif words[i] == \"关公\" or words[i] == \"云长\":\n",
    "        words[i] = \"关羽\"\n",
    "    elif words[i] == \"玄德\" or words[i] == \"玄德曰\":\n",
    "        words[i] = \"刘备\"\n",
    "    elif words[i] == \"孟德\":\n",
    "        words[i] = \"曹操\"\n",
    "\n",
    "w.generate(\" \".join(words))\n",
    "w.to_file(\"output/三国演义词云.png\")"
   ]
  }
 ]
}