{
 "metadata": {
  "language_info": {
   "codemirror_mode": {
    "name": "ipython",
    "version": 3
   },
   "file_extension": ".py",
   "mimetype": "text/x-python",
   "name": "python",
   "nbconvert_exporter": "python",
   "pygments_lexer": "ipython3",
   "version": "3.8.5"
  },
  "orig_nbformat": 2,
  "kernelspec": {
   "name": "python3",
   "display_name": "Python 3.8.5 64-bit",
   "metadata": {
    "interpreter": {
     "hash": "16e3f6170213bc8b93f4af10cda404198c09c84502cee13f546aa00fc3fa8f5f"
    }
   }
  }
 },
 "nbformat": 4,
 "nbformat_minor": 2,
 "cells": [
  {
   "source": [
    "## ndarray"
   ],
   "cell_type": "markdown",
   "metadata": {}
  },
  {
   "cell_type": "code",
   "execution_count": 1,
   "metadata": {},
   "outputs": [
    {
     "output_type": "stream",
     "name": "stdout",
     "text": [
      "[[0 1 2 3 4]\n [9 8 7 6 5]]\n"
     ]
    }
   ],
   "source": [
    "import numpy as np\n",
    "\n",
    "a = np.array([[0,1,2,3,4], \n",
    "              [9,8,7,6,5]])\n",
    "\n",
    "print(a)"
   ]
  },
  {
   "source": [
    "### 属性\n",
    "\n",
    "- `.ndim` 秩，即轴的数量或维度的数量\n",
    "- `.shape` ndarray对象的尺度，对于矩阵，n行m列\n",
    "- `.size` ndarray对象元素的个数，相当于`.shape` 中n*m的值\n",
    "- `.dtype` ndarray对象的元素类型\n",
    "- `.itemsize` ndarray对象中每个元素的大小，以字节为单位"
   ],
   "cell_type": "markdown",
   "metadata": {}
  },
  {
   "cell_type": "code",
   "execution_count": 2,
   "metadata": {},
   "outputs": [
    {
     "output_type": "stream",
     "name": "stdout",
     "text": [
      "a.ndim\t\t2\na.shape\t\t(2, 5)\na.size\t\t10\na.dtype\t\tint32\na.itemsize\t4\n"
     ]
    }
   ],
   "source": [
    "print(\"a.ndim\\t\\t{}\".format(a.ndim))\n",
    "print(\"a.shape\\t\\t{}\".format(a.shape))\n",
    "print(\"a.size\\t\\t{}\".format(a.size))\n",
    "print(\"a.dtype\\t\\t{}\".format(a.dtype))\n",
    "print(\"a.itemsize\\t{}\".format(a.itemsize))"
   ]
  },
  {
   "source": [
    "### 非同质\n",
    "\n",
    "非同质ndarray对象无法有效发挥NumPy优势，尽量避免使用"
   ],
   "cell_type": "markdown",
   "metadata": {}
  },
  {
   "cell_type": "code",
   "execution_count": 3,
   "metadata": {},
   "outputs": [
    {
     "output_type": "stream",
     "name": "stdout",
     "text": [
      "[list([0, 1, 2, 3, 4]) list([9, 8, 7, 6])]\nx.ndim\t\t1\nx.shape\t\t(2,)\nx.size\t\t2\nx.dtype\t\tobject\nx.itemsize\t8\n"
     ]
    }
   ],
   "source": [
    "import numpy as np\n",
    "\n",
    "x = np.array([[0,1,2,3,4], \n",
    "              [9,8,7,6]])\n",
    "\n",
    "print(x)\n",
    "print(\"x.ndim\\t\\t{}\".format(x.ndim))\n",
    "print(\"x.shape\\t\\t{}\".format(x.shape))\n",
    "print(\"x.size\\t\\t{}\".format(x.size))\n",
    "print(\"x.dtype\\t\\t{}\".format(x.dtype))\n",
    "print(\"x.itemsize\\t{}\".format(x.itemsize))"
   ]
  }
 ]
}