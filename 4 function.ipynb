{
 "metadata": {
  "language_info": {
   "codemirror_mode": {
    "name": "ipython",
    "version": 3
   },
   "file_extension": ".py",
   "mimetype": "text/x-python",
   "name": "python",
   "nbconvert_exporter": "python",
   "pygments_lexer": "ipython3",
   "version": "3.8.5"
  },
  "orig_nbformat": 2,
  "kernelspec": {
   "name": "python3",
   "display_name": "Python 3.8.5 64-bit",
   "metadata": {
    "interpreter": {
     "hash": "16e3f6170213bc8b93f4af10cda404198c09c84502cee13f546aa00fc3fa8f5f"
    }
   }
  }
 },
 "nbformat": 4,
 "nbformat_minor": 2,
 "cells": [
  {
   "source": [
    "# 四、 函数和代码复用\n",
    "\n",
    "1. 函数的定义和使用。\n",
    "2. 函数的参数传递：可选参数传递、参数名称传递、函数的返回值。\n",
    "3. 变量的作用域：局部变量和全局变量。\n",
    "\n",
    "函数就是用于包装重复功能的"
   ],
   "cell_type": "markdown",
   "metadata": {}
  },
  {
   "cell_type": "code",
   "execution_count": 1,
   "metadata": {},
   "outputs": [],
   "source": [
    "def some_function(parameter, optional_parameter = \"可选参数默认值\"):\n",
    "    if optional_parameter != \"可选参数默认值\":\n",
    "        return \"你修改了默认参数哦！\"\n",
    "    return \"你传入了\" + str(parameter) # 这就是返回值"
   ]
  },
  {
   "cell_type": "code",
   "execution_count": 2,
   "metadata": {},
   "outputs": [
    {
     "output_type": "execute_result",
     "data": {
      "text/plain": [
       "'你传入了123'"
      ]
     },
     "metadata": {},
     "execution_count": 2
    }
   ],
   "source": [
    "some_function(123) # 这就是使用"
   ]
  },
  {
   "cell_type": "code",
   "execution_count": 3,
   "metadata": {},
   "outputs": [
    {
     "output_type": "execute_result",
     "data": {
      "text/plain": [
       "'你修改了默认参数哦！'"
      ]
     },
     "metadata": {},
     "execution_count": 3
    }
   ],
   "source": [
    "some_function(\"呵呵\", \"有意思\")"
   ]
  },
  {
   "cell_type": "code",
   "execution_count": 4,
   "metadata": {},
   "outputs": [
    {
     "output_type": "execute_result",
     "data": {
      "text/plain": [
       "'全局变量'"
      ]
     },
     "metadata": {},
     "execution_count": 4
    }
   ],
   "source": [
    "a = \"全局变量\"\n",
    "\n",
    "def print_global_a():\n",
    "    print(a)\n",
    "\n",
    "def local_func():\n",
    "    a = \"本地变量\"\n",
    "    print(a) \n",
    "    print_global_a()\n",
    "    # 脱离作用域后本地变量无效了\n",
    "\n",
    "def global_func():\n",
    "    global a # 声明 a 为全局变量\n",
    "    a = \"修改了全局变量\"\n",
    "    print(a)\n",
    "a"
   ]
  },
  {
   "cell_type": "code",
   "execution_count": 5,
   "metadata": {},
   "outputs": [
    {
     "output_type": "stream",
     "name": "stdout",
     "text": [
      "本地变量\n全局变量\n"
     ]
    }
   ],
   "source": [
    "local_func()"
   ]
  },
  {
   "cell_type": "code",
   "execution_count": 6,
   "metadata": {},
   "outputs": [
    {
     "output_type": "stream",
     "name": "stdout",
     "text": [
      "修改了全局变量\n"
     ]
    }
   ],
   "source": [
    "global_func()"
   ]
  },
  {
   "cell_type": "code",
   "execution_count": 7,
   "metadata": {},
   "outputs": [
    {
     "output_type": "execute_result",
     "data": {
      "text/plain": [
       "'修改了全局变量'"
      ]
     },
     "metadata": {},
     "execution_count": 7
    }
   ],
   "source": [
    "a"
   ]
  }
 ]
}