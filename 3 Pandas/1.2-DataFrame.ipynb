{
 "metadata": {
  "language_info": {
   "codemirror_mode": {
    "name": "ipython",
    "version": 3
   },
   "file_extension": ".py",
   "mimetype": "text/x-python",
   "name": "python",
   "nbconvert_exporter": "python",
   "pygments_lexer": "ipython3",
   "version": "3.8.5-final"
  },
  "orig_nbformat": 2,
  "kernelspec": {
   "name": "python3",
   "display_name": "Python 3.8.5 64-bit",
   "metadata": {
    "interpreter": {
     "hash": "2db524e06e9f5f4ffedc911c917cb75e12dbc923643829bf417064a77eb14d37"
    }
   }
  }
 },
 "nbformat": 4,
 "nbformat_minor": 2,
 "cells": [
  {
   "source": [
    "# DataFrame\n",
    "\n",
    "DataFrame类型由共用相同索引的一组列组成\n",
    "\n",
    "| 索引    |    | 多列数据  |          |     |          |\n",
    "| --      | -- | --       | --       | --  | --       |\n",
    "|         |    | column_0 | column_1 |     | column_i |\n",
    "| index_0 | -> | data_a   | data_1   | ... | data_w   |\n",
    "| index_1 | -> | data_b   | data_2   | ... | data_x   |\n",
    "| index_2 | -> | data_d   | data_3   | ... | data_y   |\n",
    "| index_3 | -> | data_c   | data_4   | ... | data_z   |\n",
    "\n",
    "column 列\n",
    "\n",
    "特点\n",
    "- 一个表格型的数据类型，每列值类型可以不同\n",
    "- 既有行索引、也有列索引\n",
    "- 常用于表达二维数据，但可以表达多维数据"
   ],
   "cell_type": "markdown",
   "metadata": {}
  },
  {
   "source": [
    "## 创建\n",
    "\n",
    "- 二维ndarray对象\n",
    "- 由一维ndarray、列表、字典、元组或Series构成的字典\n",
    "    - 字典 Key 为 列索引\n",
    "    - 缺省元素， NaN补齐\n",
    "- Series类型\n",
    "- 其他的DataFrame类型"
   ],
   "cell_type": "markdown",
   "metadata": {}
  },
  {
   "cell_type": "code",
   "execution_count": 5,
   "metadata": {},
   "outputs": [
    {
     "output_type": "stream",
     "name": "stdout",
     "text": [
      "↓ 自动行索引\n   ↓ 自动列索引\n"
     ]
    },
    {
     "output_type": "execute_result",
     "data": {
      "text/plain": [
       "    0   1   2   3   4\n",
       "0   0   1   2   3   4\n",
       "1   5   6   7   8   9\n",
       "2  10  11  12  13  14"
      ],
      "text/html": "<div>\n<style scoped>\n    .dataframe tbody tr th:only-of-type {\n        vertical-align: middle;\n    }\n\n    .dataframe tbody tr th {\n        vertical-align: top;\n    }\n\n    .dataframe thead th {\n        text-align: right;\n    }\n</style>\n<table border=\"1\" class=\"dataframe\">\n  <thead>\n    <tr style=\"text-align: right;\">\n      <th></th>\n      <th>0</th>\n      <th>1</th>\n      <th>2</th>\n      <th>3</th>\n      <th>4</th>\n    </tr>\n  </thead>\n  <tbody>\n    <tr>\n      <th>0</th>\n      <td>0</td>\n      <td>1</td>\n      <td>2</td>\n      <td>3</td>\n      <td>4</td>\n    </tr>\n    <tr>\n      <th>1</th>\n      <td>5</td>\n      <td>6</td>\n      <td>7</td>\n      <td>8</td>\n      <td>9</td>\n    </tr>\n    <tr>\n      <th>2</th>\n      <td>10</td>\n      <td>11</td>\n      <td>12</td>\n      <td>13</td>\n      <td>14</td>\n    </tr>\n  </tbody>\n</table>\n</div>"
     },
     "metadata": {},
     "execution_count": 5
    }
   ],
   "source": [
    "import pandas as pd\n",
    "import numpy as np\n",
    "\n",
    "print(\"↓ 自动行索引\")\n",
    "print(\"   ↓ 自动列索引\")\n",
    "pd.DataFrame(np.arange(15).reshape(3,5)) # ndarray"
   ]
  },
  {
   "cell_type": "code",
   "execution_count": 10,
   "metadata": {},
   "outputs": [
    {
     "output_type": "execute_result",
     "data": {
      "text/plain": [
       "   first  second\n",
       "a    1.0     9.0\n",
       "b    2.0     NaN\n",
       "c    3.0     7.0\n",
       "d    NaN     6.0"
      ],
      "text/html": "<div>\n<style scoped>\n    .dataframe tbody tr th:only-of-type {\n        vertical-align: middle;\n    }\n\n    .dataframe tbody tr th {\n        vertical-align: top;\n    }\n\n    .dataframe thead th {\n        text-align: right;\n    }\n</style>\n<table border=\"1\" class=\"dataframe\">\n  <thead>\n    <tr style=\"text-align: right;\">\n      <th></th>\n      <th>first</th>\n      <th>second</th>\n    </tr>\n  </thead>\n  <tbody>\n    <tr>\n      <th>a</th>\n      <td>1.0</td>\n      <td>9.0</td>\n    </tr>\n    <tr>\n      <th>b</th>\n      <td>2.0</td>\n      <td>NaN</td>\n    </tr>\n    <tr>\n      <th>c</th>\n      <td>3.0</td>\n      <td>7.0</td>\n    </tr>\n    <tr>\n      <th>d</th>\n      <td>NaN</td>\n      <td>6.0</td>\n    </tr>\n  </tbody>\n</table>\n</div>"
     },
     "metadata": {},
     "execution_count": 10
    }
   ],
   "source": [
    "pd.DataFrame({\n",
    "    \"first\" : pd.Series((1, 2, 3), ('a', 'b', 'c')),\n",
    "    \"second\" : pd.Series((9, 7, 6), ('a', 'c', 'd'))\n",
    "})"
   ]
  },
  {
   "cell_type": "code",
   "execution_count": 6,
   "metadata": {},
   "outputs": [
    {
     "output_type": "execute_result",
     "data": {
      "text/plain": [
       "   first  second\n",
       "a      1       5\n",
       "b      2       6\n",
       "c      3       7\n",
       "d      4       8"
      ],
      "text/html": "<div>\n<style scoped>\n    .dataframe tbody tr th:only-of-type {\n        vertical-align: middle;\n    }\n\n    .dataframe tbody tr th {\n        vertical-align: top;\n    }\n\n    .dataframe thead th {\n        text-align: right;\n    }\n</style>\n<table border=\"1\" class=\"dataframe\">\n  <thead>\n    <tr style=\"text-align: right;\">\n      <th></th>\n      <th>first</th>\n      <th>second</th>\n    </tr>\n  </thead>\n  <tbody>\n    <tr>\n      <th>a</th>\n      <td>1</td>\n      <td>5</td>\n    </tr>\n    <tr>\n      <th>b</th>\n      <td>2</td>\n      <td>6</td>\n    </tr>\n    <tr>\n      <th>c</th>\n      <td>3</td>\n      <td>7</td>\n    </tr>\n    <tr>\n      <th>d</th>\n      <td>4</td>\n      <td>8</td>\n    </tr>\n  </tbody>\n</table>\n</div>"
     },
     "metadata": {},
     "execution_count": 6
    }
   ],
   "source": [
    "pd.DataFrame(\n",
    "    {\n",
    "        'first' : [1, 2, 3, 4], # 字典 Key 为 列索引\n",
    "        'second' : [5, 6, 7, 8]\n",
    "    },\n",
    "    ('a', 'b', 'c', 'd')\n",
    ")"
   ]
  },
  {
   "cell_type": "code",
   "execution_count": 11,
   "metadata": {},
   "outputs": [
    {
     "output_type": "execute_result",
     "data": {
      "text/plain": [
       "   城市     环比     同比     定基\n",
       "0  北京  101.5  120.7  121.4\n",
       "1  上海  101.2  127.3  127.8\n",
       "2  广州  101.3  119.4  120.0\n",
       "3  深圳  102.0  140.9  145.5\n",
       "4  沈阳  100.1  101.4  101.6"
      ],
      "text/html": "<div>\n<style scoped>\n    .dataframe tbody tr th:only-of-type {\n        vertical-align: middle;\n    }\n\n    .dataframe tbody tr th {\n        vertical-align: top;\n    }\n\n    .dataframe thead th {\n        text-align: right;\n    }\n</style>\n<table border=\"1\" class=\"dataframe\">\n  <thead>\n    <tr style=\"text-align: right;\">\n      <th></th>\n      <th>城市</th>\n      <th>环比</th>\n      <th>同比</th>\n      <th>定基</th>\n    </tr>\n  </thead>\n  <tbody>\n    <tr>\n      <th>0</th>\n      <td>北京</td>\n      <td>101.5</td>\n      <td>120.7</td>\n      <td>121.4</td>\n    </tr>\n    <tr>\n      <th>1</th>\n      <td>上海</td>\n      <td>101.2</td>\n      <td>127.3</td>\n      <td>127.8</td>\n    </tr>\n    <tr>\n      <th>2</th>\n      <td>广州</td>\n      <td>101.3</td>\n      <td>119.4</td>\n      <td>120.0</td>\n    </tr>\n    <tr>\n      <th>3</th>\n      <td>深圳</td>\n      <td>102.0</td>\n      <td>140.9</td>\n      <td>145.5</td>\n    </tr>\n    <tr>\n      <th>4</th>\n      <td>沈阳</td>\n      <td>100.1</td>\n      <td>101.4</td>\n      <td>101.6</td>\n    </tr>\n  </tbody>\n</table>\n</div>"
     },
     "metadata": {},
     "execution_count": 11
    }
   ],
   "source": [
    "pd.DataFrame({\n",
    "    \"城市\" : [\"北京\", \"上海\", \"广州\", \"深圳\", \"沈阳\"],\n",
    "    \"环比\" : [101.5, 101.2, 101.3, 102.0, 100.1],\n",
    "    \"同比\" : [120.7, 127.3, 119.4, 140.9, 101.4],\n",
    "    \"定基\" : [121.4, 127.8, 120.0, 145.5, 101.6]\n",
    "})"
   ]
  },
  {
   "cell_type": "code",
   "execution_count": 13,
   "metadata": {},
   "outputs": [
    {
     "output_type": "execute_result",
     "data": {
      "text/plain": [
       "   城市     环比     同比     定基\n",
       "0  北京  101.5  120.7  121.4\n",
       "1  上海  101.2  127.3  127.8\n",
       "2  广州  101.3  119.4  120.0\n",
       "3  深圳  102.0  140.9  145.5\n",
       "4  沈阳  100.1  101.4  101.6"
      ],
      "text/html": "<div>\n<style scoped>\n    .dataframe tbody tr th:only-of-type {\n        vertical-align: middle;\n    }\n\n    .dataframe tbody tr th {\n        vertical-align: top;\n    }\n\n    .dataframe thead th {\n        text-align: right;\n    }\n</style>\n<table border=\"1\" class=\"dataframe\">\n  <thead>\n    <tr style=\"text-align: right;\">\n      <th></th>\n      <th>城市</th>\n      <th>环比</th>\n      <th>同比</th>\n      <th>定基</th>\n    </tr>\n  </thead>\n  <tbody>\n    <tr>\n      <th>0</th>\n      <td>北京</td>\n      <td>101.5</td>\n      <td>120.7</td>\n      <td>121.4</td>\n    </tr>\n    <tr>\n      <th>1</th>\n      <td>上海</td>\n      <td>101.2</td>\n      <td>127.3</td>\n      <td>127.8</td>\n    </tr>\n    <tr>\n      <th>2</th>\n      <td>广州</td>\n      <td>101.3</td>\n      <td>119.4</td>\n      <td>120.0</td>\n    </tr>\n    <tr>\n      <th>3</th>\n      <td>深圳</td>\n      <td>102.0</td>\n      <td>140.9</td>\n      <td>145.5</td>\n    </tr>\n    <tr>\n      <th>4</th>\n      <td>沈阳</td>\n      <td>100.1</td>\n      <td>101.4</td>\n      <td>101.6</td>\n    </tr>\n  </tbody>\n</table>\n</div>"
     },
     "metadata": {},
     "execution_count": 13
    }
   ],
   "source": [
    "d = pd.read_csv(\"assets/2016年7月部分大中城市新建住宅价格指数.csv\")\n",
    "d"
   ]
  },
  {
   "cell_type": "code",
   "execution_count": 14,
   "metadata": {},
   "outputs": [
    {
     "output_type": "execute_result",
     "data": {
      "text/plain": [
       "RangeIndex(start=0, stop=5, step=1)"
      ]
     },
     "metadata": {},
     "execution_count": 14
    }
   ],
   "source": [
    "d.index"
   ]
  },
  {
   "cell_type": "code",
   "execution_count": 15,
   "metadata": {},
   "outputs": [
    {
     "output_type": "execute_result",
     "data": {
      "text/plain": [
       "Index(['城市', '环比', '同比', '定基'], dtype='object')"
      ]
     },
     "metadata": {},
     "execution_count": 15
    }
   ],
   "source": [
    "d.columns"
   ]
  },
  {
   "cell_type": "code",
   "execution_count": 16,
   "metadata": {},
   "outputs": [
    {
     "output_type": "execute_result",
     "data": {
      "text/plain": [
       "array([['北京', 101.5, 120.7, 121.4],\n",
       "       ['上海', 101.2, 127.3, 127.8],\n",
       "       ['广州', 101.3, 119.4, 120.0],\n",
       "       ['深圳', 102.0, 140.9, 145.5],\n",
       "       ['沈阳', 100.1, 101.4, 101.6]], dtype=object)"
      ]
     },
     "metadata": {},
     "execution_count": 16
    }
   ],
   "source": [
    "d.values"
   ]
  },
  {
   "cell_type": "code",
   "execution_count": 18,
   "metadata": {},
   "outputs": [
    {
     "output_type": "execute_result",
     "data": {
      "text/plain": [
       "0    北京\n",
       "1    上海\n",
       "2    广州\n",
       "3    深圳\n",
       "4    沈阳\n",
       "Name: 城市, dtype: object"
      ]
     },
     "metadata": {},
     "execution_count": 18
    }
   ],
   "source": [
    "# d[0] # 报错\n",
    "d[\"城市\"]"
   ]
  },
  {
   "cell_type": "code",
   "execution_count": 23,
   "metadata": {},
   "outputs": [
    {
     "output_type": "execute_result",
     "data": {
      "text/plain": [
       "城市       广州\n",
       "环比    101.3\n",
       "同比    119.4\n",
       "定基    120.0\n",
       "Name: 2, dtype: object"
      ]
     },
     "metadata": {},
     "execution_count": 23
    }
   ],
   "source": [
    "d.loc[2]"
   ]
  },
  {
   "cell_type": "code",
   "execution_count": 24,
   "metadata": {},
   "outputs": [
    {
     "output_type": "execute_result",
     "data": {
      "text/plain": [
       "'广州'"
      ]
     },
     "metadata": {},
     "execution_count": 24
    }
   ],
   "source": [
    "d[\"城市\"][2] # 列 行"
   ]
  }
 ]
}