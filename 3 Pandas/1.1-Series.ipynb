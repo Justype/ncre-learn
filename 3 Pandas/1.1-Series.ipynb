{
 "metadata": {
  "language_info": {
   "codemirror_mode": {
    "name": "ipython",
    "version": 3
   },
   "file_extension": ".py",
   "mimetype": "text/x-python",
   "name": "python",
   "nbconvert_exporter": "python",
   "pygments_lexer": "ipython3",
   "version": "3.8.5-final"
  },
  "orig_nbformat": 2,
  "kernelspec": {
   "name": "python3",
   "display_name": "Python 3.8.5 64-bit",
   "metadata": {
    "interpreter": {
     "hash": "2db524e06e9f5f4ffedc911c917cb75e12dbc923643829bf417064a77eb14d37"
    }
   }
  }
 },
 "nbformat": 4,
 "nbformat_minor": 2,
 "cells": [
  {
   "cell_type": "code",
   "execution_count": 1,
   "metadata": {},
   "outputs": [],
   "source": [
    "import pandas as pd"
   ]
  },
  {
   "source": [
    "# Series\n",
    "\n",
    "索引 -> 值\n",
    "\n",
    "强大的索引功能：自动or自定义"
   ],
   "cell_type": "markdown",
   "metadata": {}
  },
  {
   "cell_type": "code",
   "execution_count": 2,
   "metadata": {},
   "outputs": [
    {
     "output_type": "stream",
     "name": "stdout",
     "text": [
      "↓  自动索引\n"
     ]
    },
    {
     "output_type": "execute_result",
     "data": {
      "text/plain": [
       "0    3\n",
       "1    2\n",
       "2    4\n",
       "3    9\n",
       "dtype: int64"
      ]
     },
     "metadata": {},
     "execution_count": 2
    }
   ],
   "source": [
    "print(\"↓  自动索引\")\n",
    "pd.Series((3, 2, 4, 9))"
   ]
  },
  {
   "cell_type": "code",
   "execution_count": 3,
   "metadata": {},
   "outputs": [
    {
     "output_type": "stream",
     "name": "stdout",
     "text": [
      "↓  自定义索引\n"
     ]
    },
    {
     "output_type": "execute_result",
     "data": {
      "text/plain": [
       "a    3\n",
       "b    2\n",
       "c    4\n",
       "d    9\n",
       "dtype: int64"
      ]
     },
     "metadata": {},
     "execution_count": 3
    }
   ],
   "source": [
    "print(\"↓  自定义索引\")\n",
    "pd.Series((3, 2, 4, 9), ('a', 'b', 'c', 'd'))"
   ]
  },
  {
   "source": [
    "## 创建\n",
    "\n",
    "- 列表\n",
    "- 标量值\n",
    "- 字典\n",
    "- ndarray"
   ],
   "cell_type": "markdown",
   "metadata": {}
  },
  {
   "cell_type": "code",
   "execution_count": 4,
   "metadata": {},
   "outputs": [
    {
     "output_type": "execute_result",
     "data": {
      "text/plain": [
       "a    25\n",
       "b    25\n",
       "c    25\n",
       "dtype: int64"
      ]
     },
     "metadata": {},
     "execution_count": 4
    }
   ],
   "source": [
    "pd.Series(25, ('a', 'b', 'c')) # 标量中创建"
   ]
  },
  {
   "cell_type": "code",
   "execution_count": 5,
   "metadata": {},
   "outputs": [
    {
     "output_type": "execute_result",
     "data": {
      "text/plain": [
       "a    9\n",
       "b    8\n",
       "c    7\n",
       "dtype: int64"
      ]
     },
     "metadata": {},
     "execution_count": 5
    }
   ],
   "source": [
    "pd.Series({\n",
    "    'a' : 9,\n",
    "    'b' : 8,\n",
    "    'c' : 7\n",
    "}) # 字典中创建"
   ]
  },
  {
   "cell_type": "code",
   "execution_count": 6,
   "metadata": {},
   "outputs": [
    {
     "output_type": "execute_result",
     "data": {
      "text/plain": [
       "c    7.0\n",
       "a    9.0\n",
       "b    8.0\n",
       "d    NaN\n",
       "dtype: float64"
      ]
     },
     "metadata": {},
     "execution_count": 6
    }
   ],
   "source": [
    "pd.Series({\n",
    "    'a' : 9,\n",
    "    'b' : 8,\n",
    "    'c' : 7\n",
    "},('c', 'a', 'b', 'd')) # 字典中创建，并指明 index\n",
    "                        # 无值的为 NaN （Not a Number）"
   ]
  },
  {
   "cell_type": "code",
   "execution_count": 7,
   "metadata": {},
   "outputs": [
    {
     "output_type": "execute_result",
     "data": {
      "text/plain": [
       "0   -0.902378\n",
       "1   -1.505685\n",
       "2    2.398227\n",
       "3    0.754956\n",
       "dtype: float64"
      ]
     },
     "metadata": {},
     "execution_count": 7
    }
   ],
   "source": [
    "import numpy as np\n",
    "pd.Series(np.random.randn(4))"
   ]
  },
  {
   "source": [
    "## 基本操作\n",
    "\n",
    "索引操作：（不能混用）\n",
    "- 自定义索引\n",
    "- 默认0开始的索引\n",
    "\n",
    "基本的字典操作\n",
    "- in\n",
    "- .get()\n",
    "\n",
    "加减乘除\n",
    "- 索引对齐运算\n",
    "- 没有对应值的，NaN"
   ],
   "cell_type": "markdown",
   "metadata": {}
  },
  {
   "cell_type": "code",
   "execution_count": 8,
   "metadata": {},
   "outputs": [
    {
     "output_type": "execute_result",
     "data": {
      "text/plain": [
       "a    3\n",
       "b    2\n",
       "c    4\n",
       "d    9\n",
       "dtype: int64"
      ]
     },
     "metadata": {},
     "execution_count": 8
    }
   ],
   "source": [
    "s = pd.Series((3, 2, 4, 9), ('a', 'b', 'c', 'd'))\n",
    "s"
   ]
  },
  {
   "cell_type": "code",
   "execution_count": 9,
   "metadata": {},
   "outputs": [
    {
     "output_type": "execute_result",
     "data": {
      "text/plain": [
       "Index(['a', 'b', 'c', 'd'], dtype='object')"
      ]
     },
     "metadata": {},
     "execution_count": 9
    }
   ],
   "source": [
    "s.index # index 的数据类型为 Index 类"
   ]
  },
  {
   "cell_type": "code",
   "execution_count": 10,
   "metadata": {},
   "outputs": [
    {
     "output_type": "execute_result",
     "data": {
      "text/plain": [
       "array([3, 2, 4, 9], dtype=int64)"
      ]
     },
     "metadata": {},
     "execution_count": 10
    }
   ],
   "source": [
    "s.values # value 的数据类型为 ndarray"
   ]
  },
  {
   "source": [
    "### 索引 + 切片\n",
    "\n",
    "可使用关系进行切片"
   ],
   "cell_type": "markdown",
   "metadata": {}
  },
  {
   "cell_type": "code",
   "execution_count": 11,
   "metadata": {},
   "outputs": [
    {
     "output_type": "execute_result",
     "data": {
      "text/plain": [
       "(3, 3, 9)"
      ]
     },
     "metadata": {},
     "execution_count": 11
    }
   ],
   "source": [
    "s['a'], s[0], s[-1]"
   ]
  },
  {
   "cell_type": "code",
   "execution_count": 12,
   "metadata": {},
   "outputs": [
    {
     "output_type": "execute_result",
     "data": {
      "text/plain": [
       "b    2\n",
       "c    4\n",
       "d    9\n",
       "dtype: int64"
      ]
     },
     "metadata": {},
     "execution_count": 12
    }
   ],
   "source": [
    "s['b':]"
   ]
  },
  {
   "cell_type": "code",
   "execution_count": 13,
   "metadata": {},
   "outputs": [
    {
     "output_type": "execute_result",
     "data": {
      "text/plain": [
       "a    3\n",
       "c    4\n",
       "dtype: int64"
      ]
     },
     "metadata": {},
     "execution_count": 13
    }
   ],
   "source": [
    "s[:-1:2]"
   ]
  },
  {
   "cell_type": "code",
   "execution_count": 14,
   "metadata": {},
   "outputs": [
    {
     "output_type": "execute_result",
     "data": {
      "text/plain": [
       "d    9\n",
       "dtype: int64"
      ]
     },
     "metadata": {},
     "execution_count": 14
    }
   ],
   "source": [
    "s[s > s.mean()]"
   ]
  },
  {
   "source": [
    "### in get"
   ],
   "cell_type": "markdown",
   "metadata": {}
  },
  {
   "cell_type": "code",
   "execution_count": 15,
   "metadata": {},
   "outputs": [
    {
     "output_type": "execute_result",
     "data": {
      "text/plain": [
       "True"
      ]
     },
     "metadata": {},
     "execution_count": 15
    }
   ],
   "source": [
    "'a' in s # 能判断 Index 是否在Series内"
   ]
  },
  {
   "cell_type": "code",
   "execution_count": 16,
   "metadata": {},
   "outputs": [
    {
     "output_type": "execute_result",
     "data": {
      "text/plain": [
       "False"
      ]
     },
     "metadata": {},
     "execution_count": 16
    }
   ],
   "source": [
    "0 in s"
   ]
  },
  {
   "cell_type": "code",
   "execution_count": 18,
   "metadata": {},
   "outputs": [
    {
     "output_type": "execute_result",
     "data": {
      "text/plain": [
       "100"
      ]
     },
     "metadata": {},
     "execution_count": 18
    }
   ],
   "source": [
    "s.get('f', 100)"
   ]
  },
  {
   "source": [
    "### Series 与 Series 运算\n",
    "\n",
    "相同索引的数据进行运算"
   ],
   "cell_type": "markdown",
   "metadata": {}
  },
  {
   "cell_type": "code",
   "execution_count": 20,
   "metadata": {},
   "outputs": [
    {
     "output_type": "execute_result",
     "data": {
      "text/plain": [
       "a    NaN\n",
       "b    NaN\n",
       "c    9.0\n",
       "d    7.0\n",
       "e    NaN\n",
       "dtype: float64"
      ]
     },
     "metadata": {},
     "execution_count": 20
    }
   ],
   "source": [
    "s1 = pd.Series((1, 2, 3), ('d', 'c', 'e'))\n",
    "s2 = pd.Series((9, 8, 7, 6), ('a', 'b', 'c', 'd'))\n",
    "s1+s2"
   ]
  },
  {
   "cell_type": "code",
   "execution_count": 21,
   "metadata": {},
   "outputs": [
    {
     "output_type": "execute_result",
     "data": {
      "text/plain": [
       "a     NaN\n",
       "b     NaN\n",
       "c    14.0\n",
       "d     6.0\n",
       "e     NaN\n",
       "dtype: float64"
      ]
     },
     "metadata": {},
     "execution_count": 21
    }
   ],
   "source": [
    "s1*s2"
   ]
  },
  {
   "cell_type": "code",
   "execution_count": 22,
   "metadata": {},
   "outputs": [
    {
     "output_type": "execute_result",
     "data": {
      "text/plain": [
       "a         NaN\n",
       "b         NaN\n",
       "c    0.285714\n",
       "d    0.166667\n",
       "e         NaN\n",
       "dtype: float64"
      ]
     },
     "metadata": {},
     "execution_count": 22
    }
   ],
   "source": [
    "s1/s2"
   ]
  },
  {
   "source": [
    "### .name"
   ],
   "cell_type": "markdown",
   "metadata": {}
  },
  {
   "cell_type": "code",
   "execution_count": 23,
   "metadata": {},
   "outputs": [
    {
     "output_type": "execute_result",
     "data": {
      "text/plain": [
       "Series 索引\n",
       "a    3\n",
       "b    2\n",
       "c    4\n",
       "d    9\n",
       "Name: Series 对象, dtype: int64"
      ]
     },
     "metadata": {},
     "execution_count": 23
    }
   ],
   "source": [
    "s.name = \"Series 对象\"\n",
    "s.index.name = \"Series 索引\"\n",
    "s"
   ]
  }
 ]
}