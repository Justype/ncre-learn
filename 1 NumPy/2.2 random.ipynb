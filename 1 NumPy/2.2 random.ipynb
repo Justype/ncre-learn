{
 "metadata": {
  "language_info": {
   "codemirror_mode": {
    "name": "ipython",
    "version": 3
   },
   "file_extension": ".py",
   "mimetype": "text/x-python",
   "name": "python",
   "nbconvert_exporter": "python",
   "pygments_lexer": "ipython3",
   "version": "3.8.5-final"
  },
  "orig_nbformat": 2,
  "kernelspec": {
   "name": "python3",
   "display_name": "Python 3.8.5 64-bit",
   "metadata": {
    "interpreter": {
     "hash": "2db524e06e9f5f4ffedc911c917cb75e12dbc923643829bf417064a77eb14d37"
    }
   }
  }
 },
 "nbformat": 4,
 "nbformat_minor": 2,
 "cells": [
  {
   "source": [
    "# NumPy 随机数 函数\n",
    "\n",
    "`np.random` 下面的各种函数"
   ],
   "cell_type": "markdown",
   "metadata": {}
  },
  {
   "cell_type": "code",
   "execution_count": 1,
   "metadata": {},
   "outputs": [],
   "source": [
    "import numpy as np"
   ]
  },
  {
   "source": [
    "## 按值产生数or数组\n",
    "\n",
    "形状不写，默认一个数\n",
    "\n",
    "函数 | 说明\n",
    "-- | --\n",
    "`rand(d0,d1,..,dn)` | 根据d0‐dn创建随机数数组，浮点数，[0,1)，均匀分布\n",
    "`randn(d0,d1,..,dn)` | 根据d0‐dn创建随机数数组，标准正态分布\n",
    "`randint(low,high[,shape])` | 根据shape创建随机整数或整数数组，范围是[low, high)\n",
    "`seed(s)` | 随机数种子，s是给定的种子值"
   ],
   "cell_type": "markdown",
   "metadata": {}
  },
  {
   "cell_type": "code",
   "execution_count": 2,
   "metadata": {},
   "outputs": [
    {
     "output_type": "execute_result",
     "data": {
      "text/plain": [
       "0.1312641172921194"
      ]
     },
     "metadata": {},
     "execution_count": 2
    }
   ],
   "source": [
    "np.random.rand()"
   ]
  },
  {
   "cell_type": "code",
   "execution_count": 3,
   "metadata": {},
   "outputs": [
    {
     "output_type": "execute_result",
     "data": {
      "text/plain": [
       "array([[[0.92856281, 0.64799735, 0.93291654, 0.93831433],\n",
       "        [0.23915473, 0.53307949, 0.15276633, 0.76518631],\n",
       "        [0.08136714, 0.4548479 , 0.5178648 , 0.54593483]],\n",
       "\n",
       "       [[0.48477015, 0.22405182, 0.53264063, 0.60872525],\n",
       "        [0.32789379, 0.72134315, 0.16904562, 0.5565849 ],\n",
       "        [0.71198952, 0.82783959, 0.40190552, 0.41283458]]])"
      ]
     },
     "metadata": {},
     "execution_count": 3
    }
   ],
   "source": [
    "np.random.rand(2,3,4) # 0-1 随机分布"
   ]
  },
  {
   "cell_type": "code",
   "execution_count": 4,
   "metadata": {},
   "outputs": [
    {
     "output_type": "execute_result",
     "data": {
      "text/plain": [
       "array([[[ 0.03300644,  1.10273523,  1.41165403, -1.39137744],\n",
       "        [-0.26075574, -0.32079219, -0.37912608,  0.63283365],\n",
       "        [-0.52390377,  1.75816767, -0.04090268,  1.19797867]],\n",
       "\n",
       "       [[ 1.42410391,  0.58110727,  0.55377343, -0.43143277],\n",
       "        [ 1.11889378,  0.94288128,  1.99847136,  0.13261688],\n",
       "        [-0.33405298, -1.79635228, -1.64510687, -0.09166618]]])"
      ]
     },
     "metadata": {},
     "execution_count": 4
    }
   ],
   "source": [
    "np.random.randn(2,3,4) # 正态分布"
   ]
  },
  {
   "cell_type": "code",
   "execution_count": 5,
   "metadata": {},
   "outputs": [
    {
     "output_type": "execute_result",
     "data": {
      "text/plain": [
       "array([[[80, 78, 12, 44],\n",
       "        [71, 48, 89, 31],\n",
       "        [69, 61, 23, 54]],\n",
       "\n",
       "       [[11, 93, 62, 94],\n",
       "        [75, 80, 38, 96],\n",
       "        [49, 14, 76, 41]]])"
      ]
     },
     "metadata": {},
     "execution_count": 5
    }
   ],
   "source": [
    "np.random.randint(0, 100, (2, 3, 4))"
   ]
  },
  {
   "source": [
    "## 打乱数组，抽取元素\n",
    "\n",
    "函数 | 说明\n",
    "-- | --\n",
    "`shuffle(a)` | 根据数组a的第1轴进行随排列，改变数组x\n",
    "`permutation(a)` | 根据数组a的第1轴产生一个新的乱序数组，不改变数组x\n",
    "`choice(a,[size,replace,p])` | 从一维数组a中以概率p抽取元素，形成size形状新数组 replace表示是否可以重用元素，默认为True，使用重复元素"
   ],
   "cell_type": "markdown",
   "metadata": {}
  },
  {
   "cell_type": "code",
   "execution_count": 6,
   "metadata": {},
   "outputs": [
    {
     "output_type": "execute_result",
     "data": {
      "text/plain": [
       "array([[29,  2, 69, 97],\n",
       "       [18, 14, 71, 64],\n",
       "       [15, 48, 26, 24]])"
      ]
     },
     "metadata": {},
     "execution_count": 6
    }
   ],
   "source": [
    "a = np.random.randint(0, 100, (3, 4))\n",
    "a"
   ]
  },
  {
   "cell_type": "code",
   "execution_count": 7,
   "metadata": {},
   "outputs": [
    {
     "output_type": "execute_result",
     "data": {
      "text/plain": [
       "array([[18, 14, 71, 64],\n",
       "       [15, 48, 26, 24],\n",
       "       [29,  2, 69, 97]])"
      ]
     },
     "metadata": {},
     "execution_count": 7
    }
   ],
   "source": [
    "np.random.shuffle(a) # 将 a 乱序\n",
    "a"
   ]
  },
  {
   "cell_type": "code",
   "execution_count": 8,
   "metadata": {},
   "outputs": [
    {
     "output_type": "execute_result",
     "data": {
      "text/plain": [
       "array([[29,  2, 69, 97],\n",
       "       [15, 48, 26, 24],\n",
       "       [18, 14, 71, 64]])"
      ]
     },
     "metadata": {},
     "execution_count": 8
    }
   ],
   "source": [
    "np.random.permutation(a) # 生成新的数组"
   ]
  },
  {
   "cell_type": "code",
   "execution_count": 9,
   "metadata": {},
   "outputs": [
    {
     "output_type": "execute_result",
     "data": {
      "text/plain": [
       "array([18, 14, 71, 64, 15, 48, 26, 24, 29,  2, 69, 97])"
      ]
     },
     "metadata": {},
     "execution_count": 9
    }
   ],
   "source": [
    "b = a.flatten()\n",
    "b"
   ]
  },
  {
   "cell_type": "code",
   "execution_count": 10,
   "metadata": {},
   "outputs": [
    {
     "output_type": "execute_result",
     "data": {
      "text/plain": [
       "26"
      ]
     },
     "metadata": {},
     "execution_count": 10
    }
   ],
   "source": [
    "np.random.choice(b)  # 传入的必须是一维数组"
   ]
  },
  {
   "cell_type": "code",
   "execution_count": 11,
   "metadata": {},
   "outputs": [
    {
     "output_type": "execute_result",
     "data": {
      "text/plain": [
       "array([[97, 15, 14],\n",
       "       [64, 14, 24]])"
      ]
     },
     "metadata": {},
     "execution_count": 11
    }
   ],
   "source": [
    "np.random.choice(b, (2, 3)) # 形成一个二维数组"
   ]
  },
  {
   "cell_type": "code",
   "execution_count": 12,
   "metadata": {},
   "outputs": [
    {
     "output_type": "execute_result",
     "data": {
      "text/plain": [
       "array([[29, 15, 64],\n",
       "       [97, 48,  2]])"
      ]
     },
     "metadata": {},
     "execution_count": 12
    }
   ],
   "source": [
    "np.random.choice(b, (2, 3), False) # 不重复"
   ]
  },
  {
   "cell_type": "code",
   "execution_count": 13,
   "metadata": {},
   "outputs": [
    {
     "output_type": "execute_result",
     "data": {
      "text/plain": [
       "array([[69, 48, 97],\n",
       "       [71, 48, 97]])"
      ]
     },
     "metadata": {},
     "execution_count": 13
    }
   ],
   "source": [
    "np.random.choice(b, (2,3), p=b/np.sum(b)) # 指定每个被选择的概率\n",
    "# 在这里是数字越大概率越大 因为是数组除以 总和"
   ]
  },
  {
   "source": [
    "## 生成对应分布的数组\n",
    "\n",
    "函数 | 说明\n",
    "-- | --\n",
    "`uniform(low,high,size)` | 产生具有均匀分布的数组,low起始值,high结束值\n",
    "`normal(loc,scale,size)` | 产生具有正态分布的数组,loc均值,scale标准差\n",
    "`poisson(lam,size)` | 产生具有泊松分布的数组,lam随机事件发生率"
   ],
   "cell_type": "markdown",
   "metadata": {}
  },
  {
   "cell_type": "code",
   "execution_count": 14,
   "metadata": {},
   "outputs": [
    {
     "output_type": "execute_result",
     "data": {
      "text/plain": [
       "array([[[35.44602136,  5.41839997, 66.97149633, 10.65885807],\n",
       "        [98.82785763, 34.13082339, 90.40819292, 90.71208261],\n",
       "        [ 0.2617123 , 59.17673886, 66.02351759, 91.17682886]],\n",
       "\n",
       "       [[77.28304336, 76.93510112, 37.48269848, 27.96858523],\n",
       "        [70.61107813, 45.87354717, 15.64577411, 55.8606734 ],\n",
       "        [11.31277426, 70.47207059, 36.4295098 , 54.79517831]]])"
      ]
     },
     "metadata": {},
     "execution_count": 14
    }
   ],
   "source": [
    "np.random.uniform(0, 100, (2,3,4))"
   ]
  },
  {
   "cell_type": "code",
   "execution_count": 15,
   "metadata": {},
   "outputs": [
    {
     "output_type": "execute_result",
     "data": {
      "text/plain": [
       "array([[[ 9.77985378, 10.08310559,  4.49743259,  7.868118  ],\n",
       "        [11.22870751, 14.02869491,  8.96914521, 10.54932666],\n",
       "        [ 8.57624995, 10.25308174,  8.80901539,  9.78305069]],\n",
       "\n",
       "       [[12.38870619,  9.10567538,  8.67781011, 11.01497098],\n",
       "        [ 9.91536   ,  9.48600717,  7.00410281, 11.58981625],\n",
       "        [ 7.58137771, 11.44612862, 13.44918118, 11.00392573]]])"
      ]
     },
     "metadata": {},
     "execution_count": 15
    }
   ],
   "source": [
    "np.random.normal(10, 2, (2,3,4))\t"
   ]
  },
  {
   "cell_type": "code",
   "execution_count": 16,
   "metadata": {},
   "outputs": [
    {
     "output_type": "execute_result",
     "data": {
      "text/plain": [
       "array([[1, 0, 2, 1],\n",
       "       [2, 5, 0, 0],\n",
       "       [0, 2, 1, 1]])"
      ]
     },
     "metadata": {},
     "execution_count": 16
    }
   ],
   "source": [
    "np.random.poisson(0.9, (3,4))"
   ]
  }
 ]
}