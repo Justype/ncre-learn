{
 "metadata": {
  "language_info": {
   "codemirror_mode": {
    "name": "ipython",
    "version": 3
   },
   "file_extension": ".py",
   "mimetype": "text/x-python",
   "name": "python",
   "nbconvert_exporter": "python",
   "pygments_lexer": "ipython3",
   "version": "3.8.5"
  },
  "orig_nbformat": 2,
  "kernelspec": {
   "name": "python3",
   "display_name": "Python 3.8.5 64-bit",
   "metadata": {
    "interpreter": {
     "hash": "16e3f6170213bc8b93f4af10cda404198c09c84502cee13f546aa00fc3fa8f5f"
    }
   }
  }
 },
 "nbformat": 4,
 "nbformat_minor": 2,
 "cells": [
  {
   "source": [
    "# Numpy"
   ],
   "cell_type": "markdown",
   "metadata": {}
  },
  {
   "source": [
    "## 例子\n",
    "\n",
    "需求：计算A²+B³，其中，A和B是一维数组"
   ],
   "cell_type": "markdown",
   "metadata": {}
  },
  {
   "source": [
    "### 不使用 numpy 的效果"
   ],
   "cell_type": "markdown",
   "metadata": {}
  },
  {
   "cell_type": "code",
   "execution_count": 1,
   "metadata": {},
   "outputs": [
    {
     "output_type": "stream",
     "name": "stdout",
     "text": [
      "[729, 513, 347, 225, 141]\n"
     ]
    }
   ],
   "source": [
    "a = [0, 1, 2, 3, 4]\n",
    "b = [9, 8, 7, 6, 5]\n",
    "\n",
    "result = []\n",
    "\n",
    "for i in range(len(a)):\n",
    "    result.append(a[i]**2 + b[i]**3)\n",
    "\n",
    "print(result) # [729, 513, 347, 225, 141]"
   ]
  },
  {
   "source": [
    "### 使用 numpy"
   ],
   "cell_type": "markdown",
   "metadata": {}
  },
  {
   "cell_type": "code",
   "execution_count": 2,
   "metadata": {},
   "outputs": [
    {
     "output_type": "stream",
     "name": "stdout",
     "text": [
      "[729 513 347 225 141]\n"
     ]
    }
   ],
   "source": [
    "import numpy as np\n",
    "\n",
    "a = np.array([0, 1, 2, 3, 4])\n",
    "b = np.array([9, 8, 7, 6, 5])\n",
    "\n",
    "result_np = a**2 + b**3\n",
    "\n",
    "print(result_np) # [729 513 347 225 141]"
   ]
  }
 ]
}