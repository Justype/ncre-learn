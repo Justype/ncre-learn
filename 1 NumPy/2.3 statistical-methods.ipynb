{
 "metadata": {
  "language_info": {
   "codemirror_mode": {
    "name": "ipython",
    "version": 3
   },
   "file_extension": ".py",
   "mimetype": "text/x-python",
   "name": "python",
   "nbconvert_exporter": "python",
   "pygments_lexer": "ipython3",
   "version": "3.8.5-final"
  },
  "orig_nbformat": 2,
  "kernelspec": {
   "name": "python3",
   "display_name": "Python 3.8.5 64-bit",
   "metadata": {
    "interpreter": {
     "hash": "2db524e06e9f5f4ffedc911c917cb75e12dbc923643829bf417064a77eb14d37"
    }
   }
  }
 },
 "nbformat": 4,
 "nbformat_minor": 2,
 "cells": [
  {
   "source": [
    "# NumPy 统计类函数\n",
    "\n",
    "直接提供：`np.*`\n",
    "\n",
    "函数 | 说明 (axis整数或元组)\n",
    "-- | --\n",
    "`sum(a, axis=None)` | 根据给定轴axis，计算数组a相关元素之和\n",
    "`mean(a, axis=None)` | 根据给定轴axis，计算数组a相关元素的期望\n",
    "`average(a,axis=None,weights=None)` | 根据给定轴axis，计算数组a相关元素的加权平均值\n",
    "`std(a, axis=None)` | 根据给定轴axis，计算数组a相关元素的标准差\n",
    "`var(a, axis=None)` | 根据给定轴axis，计算数组a相关元素的方差\n",
    "\n",
    "- axis=0 为第一维度\n",
    "- axis=1 为第二维度\n",
    "- axis=(0,1) 为一、二维形成的数组？"
   ],
   "cell_type": "markdown",
   "metadata": {}
  },
  {
   "cell_type": "code",
   "execution_count": 1,
   "metadata": {},
   "outputs": [],
   "source": [
    "import numpy as np"
   ]
  },
  {
   "cell_type": "code",
   "execution_count": 2,
   "metadata": {},
   "outputs": [
    {
     "output_type": "execute_result",
     "data": {
      "text/plain": [
       "array([[ 0,  1,  2,  3,  4],\n",
       "       [ 5,  6,  7,  8,  9],\n",
       "       [10, 11, 12, 13, 14]])"
      ]
     },
     "metadata": {},
     "execution_count": 2
    }
   ],
   "source": [
    "a = np.arange(15).reshape(3, 5)\n",
    "a"
   ]
  },
  {
   "cell_type": "code",
   "execution_count": 3,
   "metadata": {},
   "outputs": [
    {
     "output_type": "execute_result",
     "data": {
      "text/plain": [
       "105"
      ]
     },
     "metadata": {},
     "execution_count": 3
    }
   ],
   "source": [
    "np.sum(a)"
   ]
  },
  {
   "cell_type": "code",
   "execution_count": 4,
   "metadata": {},
   "outputs": [
    {
     "output_type": "execute_result",
     "data": {
      "text/plain": [
       "array([10, 35, 60])"
      ]
     },
     "metadata": {},
     "execution_count": 4
    }
   ],
   "source": [
    "np.sum(a, 1) # 第二个维度？\n",
    "# sum(a, axis, dtype, out, keepdims, initial, where) # 完整参数"
   ]
  },
  {
   "cell_type": "code",
   "execution_count": 5,
   "metadata": {},
   "outputs": [
    {
     "output_type": "execute_result",
     "data": {
      "text/plain": [
       "array([5., 6., 7., 8., 9.])"
      ]
     },
     "metadata": {},
     "execution_count": 5
    }
   ],
   "source": [
    "np.mean(a, 0) # 第一个维度"
   ]
  },
  {
   "cell_type": "code",
   "execution_count": 6,
   "metadata": {},
   "outputs": [
    {
     "output_type": "execute_result",
     "data": {
      "text/plain": [
       "array([2.1875, 3.1875, 4.1875, 5.1875, 6.1875])"
      ]
     },
     "metadata": {},
     "execution_count": 6
    }
   ],
   "source": [
    "np.average(a, 0, weights=[10,5,1]) # weights 加权平均数\n",
    "# average(a, axis, weights, returned)"
   ]
  },
  {
   "cell_type": "code",
   "execution_count": 7,
   "metadata": {},
   "outputs": [
    {
     "output_type": "execute_result",
     "data": {
      "text/plain": [
       "array([ 1.84615385,  6.84615385, 11.84615385])"
      ]
     },
     "metadata": {},
     "execution_count": 7
    }
   ],
   "source": [
    "np.average(a, 1, [3,2,3,4,1]) # 测试第二个维度"
   ]
  },
  {
   "cell_type": "code",
   "execution_count": 8,
   "metadata": {},
   "outputs": [
    {
     "output_type": "execute_result",
     "data": {
      "text/plain": [
       "4.320493798938574"
      ]
     },
     "metadata": {},
     "execution_count": 8
    }
   ],
   "source": [
    "np.std(a) # 标准差 standard deviation"
   ]
  },
  {
   "cell_type": "code",
   "execution_count": 9,
   "metadata": {},
   "outputs": [
    {
     "output_type": "execute_result",
     "data": {
      "text/plain": [
       "array([2., 2., 2.])"
      ]
     },
     "metadata": {},
     "execution_count": 9
    }
   ],
   "source": [
    "np.var(a, 1) # 方差 variance"
   ]
  },
  {
   "source": [
    "函数 | 说明\n",
    "-- | --\n",
    "`min(a) max(a)` | 计算数组a中元素的最小值、最大值\n",
    "`argmin(a) argmax(a)` | 计算数组a中元素最小值、最大值的降一维后下标\n",
    "`unravel_index(index, shape)` | 根据shape将一维下标index转换成多维下标\n",
    "`ptp(a)` | 计算数组a中元素最大值与最小值的差\n",
    "`median(a)` | 计算数组a中元素的中位数（中值）\n",
    "\n",
    "第二个参数也是 axis"
   ],
   "cell_type": "markdown",
   "metadata": {}
  },
  {
   "cell_type": "code",
   "execution_count": 10,
   "metadata": {},
   "outputs": [
    {
     "output_type": "execute_result",
     "data": {
      "text/plain": [
       "array([[ 4, 15, 82, 69, 12],\n",
       "       [77, 68,  3, 11, 66],\n",
       "       [69, 53, 44, 22, 23]])"
      ]
     },
     "metadata": {},
     "execution_count": 10
    }
   ],
   "source": [
    "ar = np.random.randint(0, 100, (3,5))\n",
    "ar"
   ]
  },
  {
   "cell_type": "code",
   "execution_count": 11,
   "metadata": {},
   "outputs": [
    {
     "output_type": "execute_result",
     "data": {
      "text/plain": [
       "3"
      ]
     },
     "metadata": {},
     "execution_count": 11
    }
   ],
   "source": [
    "np.min(ar)"
   ]
  },
  {
   "cell_type": "code",
   "execution_count": 12,
   "metadata": {},
   "outputs": [
    {
     "output_type": "execute_result",
     "data": {
      "text/plain": [
       "array([82, 77, 69])"
      ]
     },
     "metadata": {},
     "execution_count": 12
    }
   ],
   "source": [
    "np.max(ar, 1)"
   ]
  },
  {
   "cell_type": "code",
   "execution_count": 13,
   "metadata": {},
   "outputs": [
    {
     "output_type": "execute_result",
     "data": {
      "text/plain": [
       "2"
      ]
     },
     "metadata": {},
     "execution_count": 13
    }
   ],
   "source": [
    "np.argmax(ar)"
   ]
  },
  {
   "cell_type": "code",
   "execution_count": 14,
   "metadata": {},
   "outputs": [
    {
     "output_type": "execute_result",
     "data": {
      "text/plain": [
       "7"
      ]
     },
     "metadata": {},
     "execution_count": 14
    }
   ],
   "source": [
    "np.argmin(ar)"
   ]
  },
  {
   "cell_type": "code",
   "execution_count": 15,
   "metadata": {},
   "outputs": [
    {
     "output_type": "execute_result",
     "data": {
      "text/plain": [
       "(1, 2)"
      ]
     },
     "metadata": {},
     "execution_count": 15
    }
   ],
   "source": [
    "np.unravel_index(np.argmin(ar), ar.shape)"
   ]
  },
  {
   "cell_type": "code",
   "execution_count": 16,
   "metadata": {},
   "outputs": [
    {
     "output_type": "execute_result",
     "data": {
      "text/plain": [
       "79"
      ]
     },
     "metadata": {},
     "execution_count": 16
    }
   ],
   "source": [
    "np.ptp(ar)"
   ]
  },
  {
   "cell_type": "code",
   "execution_count": 17,
   "metadata": {},
   "outputs": [
    {
     "output_type": "execute_result",
     "data": {
      "text/plain": [
       "array([69., 53., 44., 22., 23.])"
      ]
     },
     "metadata": {},
     "execution_count": 17
    }
   ],
   "source": [
    "np.median(ar, 0) # 中位数"
   ]
  },
  {
   "source": [
    "## 梯度函数\n",
    "\n",
    "`np.gradient(f)` 计算数组f中元素的梯度，当f为多维时，返回每个维度梯度\n",
    "\n",
    "梯度：连续值之间的变化率，即斜率，**在多媒体运算中发现边缘**\n",
    "- XY坐标轴连续三个X坐标对应的Y轴值：a, b, c，其中，b的梯度是： (c‐a)/2\n",
    "- 只有一侧，使用自身的值 除以 1\n",
    "\n",
    "完整参数：`(f, *varargs, axis=None, edge_order=1)`"
   ],
   "cell_type": "markdown",
   "metadata": {}
  },
  {
   "cell_type": "code",
   "execution_count": 18,
   "metadata": {},
   "outputs": [
    {
     "output_type": "execute_result",
     "data": {
      "text/plain": [
       "array([ 1,  8, 15, 13, 18])"
      ]
     },
     "metadata": {},
     "execution_count": 18
    }
   ],
   "source": [
    "oda = np.random.randint(0, 20, 5)\n",
    "oda"
   ]
  },
  {
   "cell_type": "code",
   "execution_count": 19,
   "metadata": {},
   "outputs": [
    {
     "output_type": "execute_result",
     "data": {
      "text/plain": [
       "array([7. , 7. , 2.5, 1.5, 5. ])"
      ]
     },
     "metadata": {},
     "execution_count": 19
    }
   ],
   "source": [
    "np.gradient(oda) # 最后一个5 = 18 - 13 "
   ]
  },
  {
   "cell_type": "code",
   "execution_count": 20,
   "metadata": {},
   "outputs": [
    {
     "output_type": "execute_result",
     "data": {
      "text/plain": [
       "array([[ 1,  1, 11, 12],\n",
       "       [ 8,  4,  9, 19],\n",
       "       [17, 15, 15,  0]])"
      ]
     },
     "metadata": {},
     "execution_count": 20
    }
   ],
   "source": [
    "bda = np.random.randint(0, 20, (3, 4))\n",
    "bda"
   ]
  },
  {
   "cell_type": "code",
   "execution_count": 21,
   "metadata": {},
   "outputs": [
    {
     "output_type": "execute_result",
     "data": {
      "text/plain": [
       "[array([[  7.,   3.,  -2.,   7.],\n",
       "        [  8.,   7.,   2.,  -6.],\n",
       "        [  9.,  11.,   6., -19.]]),\n",
       " array([[  0. ,   5. ,   5.5,   1. ],\n",
       "        [ -4. ,   0.5,   7.5,  10. ],\n",
       "        [ -2. ,  -1. ,  -7.5, -15. ]])]"
      ]
     },
     "metadata": {},
     "execution_count": 21
    }
   ],
   "source": [
    "np.gradient(bda) # 第一个数组是最外层维度 纵列算梯度"
   ]
  }
 ]
}