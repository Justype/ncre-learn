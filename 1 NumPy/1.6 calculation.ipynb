{
 "metadata": {
  "language_info": {
   "codemirror_mode": {
    "name": "ipython",
    "version": 3
   },
   "file_extension": ".py",
   "mimetype": "text/x-python",
   "name": "python",
   "nbconvert_exporter": "python",
   "pygments_lexer": "ipython3",
   "version": "3.8.5-final"
  },
  "orig_nbformat": 2,
  "kernelspec": {
   "name": "python3",
   "display_name": "Python 3.8.5 64-bit",
   "metadata": {
    "interpreter": {
     "hash": "2db524e06e9f5f4ffedc911c917cb75e12dbc923643829bf417064a77eb14d37"
    }
   }
  }
 },
 "nbformat": 4,
 "nbformat_minor": 2,
 "cells": [
  {
   "source": [
    "# 数组运算\n",
    "\n",
    "## 标量\n",
    "\n",
    "数组与标量计算为：数组中的每个元素与该标量进行计算"
   ],
   "cell_type": "markdown",
   "metadata": {}
  },
  {
   "source": [
    "### 计算数组与元素平均值的商"
   ],
   "cell_type": "markdown",
   "metadata": {}
  },
  {
   "cell_type": "code",
   "execution_count": 16,
   "metadata": {},
   "outputs": [
    {
     "output_type": "execute_result",
     "data": {
      "text/plain": [
       "array([[[ 0,  1,  2,  3],\n",
       "        [ 4,  5,  6,  7],\n",
       "        [ 8,  9, 10, 11]],\n",
       "\n",
       "       [[12, 13, 14, 15],\n",
       "        [16, 17, 18, 19],\n",
       "        [20, 21, 22, 23]]])"
      ]
     },
     "metadata": {},
     "execution_count": 16
    }
   ],
   "source": [
    "import numpy as np\n",
    "a = np.arange(24).reshape((2,3,4))\n",
    "a"
   ]
  },
  {
   "cell_type": "code",
   "execution_count": 17,
   "metadata": {},
   "outputs": [
    {
     "output_type": "execute_result",
     "data": {
      "text/plain": [
       "11.5"
      ]
     },
     "metadata": {},
     "execution_count": 17
    }
   ],
   "source": [
    "a.mean()"
   ]
  },
  {
   "cell_type": "code",
   "execution_count": 18,
   "metadata": {},
   "outputs": [
    {
     "output_type": "execute_result",
     "data": {
      "text/plain": [
       "array([[[0.        , 0.08695652, 0.17391304, 0.26086957],\n",
       "        [0.34782609, 0.43478261, 0.52173913, 0.60869565],\n",
       "        [0.69565217, 0.7826087 , 0.86956522, 0.95652174]],\n",
       "\n",
       "       [[1.04347826, 1.13043478, 1.2173913 , 1.30434783],\n",
       "        [1.39130435, 1.47826087, 1.56521739, 1.65217391],\n",
       "        [1.73913043, 1.82608696, 1.91304348, 2.        ]]])"
      ]
     },
     "metadata": {},
     "execution_count": 18
    }
   ],
   "source": [
    "x = a / a.mean()\n",
    "x"
   ]
  },
  {
   "source": [
    "一元函数 | 说明\n",
    "-- | --\n",
    "`np.rint(x)`  | 计算数组各元素的四舍五入值\n",
    "`np.modf(x)`  | 将数组各元素的小数和整数部分以两个独立数组形式返回\n",
    "`np.cos(x)` `np.cosh(x)` |\n",
    "`np.sin(x)` `np.sinh(x)` | 计算数组各元素的普通型和双曲型三角函数\n",
    "`np.tan(x)` `np.tanh(x)` |\n",
    "`np.exp(x)` | 计算数组各元素的指数值\n",
    "`np.sign(x)` | 计算数组各元素的符号值，1(+), 0, ‐1(‐)"
   ],
   "cell_type": "markdown",
   "metadata": {}
  },
  {
   "cell_type": "code",
   "execution_count": 19,
   "metadata": {},
   "outputs": [
    {
     "output_type": "execute_result",
     "data": {
      "text/plain": [
       "array([[[0.        , 0.00756144, 0.03024575, 0.06805293],\n",
       "        [0.12098299, 0.18903592, 0.27221172, 0.3705104 ],\n",
       "        [0.48393195, 0.61247637, 0.75614367, 0.91493384]],\n",
       "\n",
       "       [[1.08884688, 1.2778828 , 1.48204159, 1.70132325],\n",
       "        [1.93572779, 2.1852552 , 2.44990548, 2.72967864],\n",
       "        [3.02457467, 3.33459357, 3.65973535, 4.        ]]])"
      ]
     },
     "metadata": {},
     "execution_count": 19
    }
   ],
   "source": [
    "np.square(x)"
   ]
  },
  {
   "cell_type": "code",
   "execution_count": 20,
   "metadata": {},
   "outputs": [
    {
     "output_type": "execute_result",
     "data": {
      "text/plain": [
       "(array([[[0.        , 0.08695652, 0.17391304, 0.26086957],\n",
       "         [0.34782609, 0.43478261, 0.52173913, 0.60869565],\n",
       "         [0.69565217, 0.7826087 , 0.86956522, 0.95652174]],\n",
       " \n",
       "        [[0.04347826, 0.13043478, 0.2173913 , 0.30434783],\n",
       "         [0.39130435, 0.47826087, 0.56521739, 0.65217391],\n",
       "         [0.73913043, 0.82608696, 0.91304348, 0.        ]]]),\n",
       " array([[[0., 0., 0., 0.],\n",
       "         [0., 0., 0., 0.],\n",
       "         [0., 0., 0., 0.]],\n",
       " \n",
       "        [[1., 1., 1., 1.],\n",
       "         [1., 1., 1., 1.],\n",
       "         [1., 1., 1., 2.]]]))"
      ]
     },
     "metadata": {},
     "execution_count": 20
    }
   ],
   "source": [
    "np.modf(x)"
   ]
  },
  {
   "source": [
    "二元 | 说明\n",
    "--|--\n",
    "`+ - * / **` | 两个数组各元素进行对应运算\n",
    "`np.maximum(x,y) np.fmax()` | 元素级的最大值计算\n",
    "`np.minimum(x,y) np.fmin()` | 元素级的最小值计算\n",
    "`np.mod(x,y)` | 元素级的模运算\n",
    "`np.copysign(x,y)` | 将数组y中各元素值的符号赋值给数组x对应元素\n",
    "`> < >= <= == !=` | 算术比较，产生布尔型数组"
   ],
   "cell_type": "markdown",
   "metadata": {}
  },
  {
   "cell_type": "code",
   "execution_count": 22,
   "metadata": {},
   "outputs": [
    {
     "output_type": "execute_result",
     "data": {
      "text/plain": [
       "array([[ 0,  1,  2,  3],\n",
       "       [ 4,  5,  6,  7],\n",
       "       [ 8,  9, 10, 11]])"
      ]
     },
     "metadata": {},
     "execution_count": 22
    }
   ],
   "source": [
    "a = np.arange(12).reshape((3,4))\n",
    "a"
   ]
  },
  {
   "cell_type": "code",
   "execution_count": 25,
   "metadata": {},
   "outputs": [
    {
     "output_type": "execute_result",
     "data": {
      "text/plain": [
       "array([[-12, -10,  -8],\n",
       "       [ -6,  -4,  -2],\n",
       "       [  0,   2,   4],\n",
       "       [  6,   8,  10]])"
      ]
     },
     "metadata": {},
     "execution_count": 25
    }
   ],
   "source": [
    "b = np.arange(-12, 12, 2).reshape((4,3))\n",
    "b"
   ]
  }
 ]
}