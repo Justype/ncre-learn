{
 "metadata": {
  "language_info": {
   "codemirror_mode": {
    "name": "ipython",
    "version": 3
   },
   "file_extension": ".py",
   "mimetype": "text/x-python",
   "name": "python",
   "nbconvert_exporter": "python",
   "pygments_lexer": "ipython3",
   "version": "3.8.5"
  },
  "orig_nbformat": 2,
  "kernelspec": {
   "name": "python3",
   "display_name": "Python 3.8.5 64-bit",
   "metadata": {
    "interpreter": {
     "hash": "16e3f6170213bc8b93f4af10cda404198c09c84502cee13f546aa00fc3fa8f5f"
    }
   }
  }
 },
 "nbformat": 4,
 "nbformat_minor": 2,
 "cells": [
  {
   "source": [
    "# 二、 基本数据类型\n",
    "\n",
    "1. 数字类型：整数类型、浮点数类型和复数类型。\n",
    "2. 数字类型的运算：数值运算操作符、数值运算函数。\n",
    "3. 字符串类型及格式化：索引、切片、基本的 `format()` 格式化方法。\n",
    "4. 字符串类型的操作：字符串操作符、处理函数和处理方法。\n",
    "5. 类型判断和类型间转换。"
   ],
   "cell_type": "markdown",
   "metadata": {}
  },
  {
   "source": [
    "## 数字类型\n",
    "\n",
    "`int`, `float`, `complex`\n",
    "\n",
    "不同的表示形式\n",
    "- 十进制\n",
    "- 二进制 0b (0-1)\n",
    "- 八进制 0o (0-7)\n",
    "- 十六进制 0x (0-f)"
   ],
   "cell_type": "markdown",
   "metadata": {}
  },
  {
   "cell_type": "code",
   "execution_count": 1,
   "metadata": {},
   "outputs": [
    {
     "output_type": "execute_result",
     "data": {
      "text/plain": [
       "int"
      ]
     },
     "metadata": {},
     "execution_count": 1
    }
   ],
   "source": [
    "integer = 12345678901234567890 # 整数 没有其他语言的大小限制\n",
    "type(integer)"
   ]
  },
  {
   "cell_type": "code",
   "execution_count": 2,
   "metadata": {},
   "outputs": [
    {
     "output_type": "execute_result",
     "data": {
      "text/plain": [
       "float"
      ]
     },
     "metadata": {},
     "execution_count": 2
    }
   ],
   "source": [
    "decimal = 12.3e10 # 小数 <a>e<b> 为 a*10ᵇ\n",
    "type(decimal)"
   ]
  },
  {
   "cell_type": "code",
   "execution_count": 3,
   "metadata": {},
   "outputs": [
    {
     "output_type": "execute_result",
     "data": {
      "text/plain": [
       "complex"
      ]
     },
     "metadata": {},
     "execution_count": 3
    }
   ],
   "source": [
    "complex_number = 12.3 + 4.5j # 复数\n",
    "type(complex_number)"
   ]
  },
  {
   "source": [
    "## 运算\n",
    "\n",
    "加|减|乘|除|整除|余|次方|负值\n",
    "--|--|--|--|---|--|--|--\n",
    "+ |- |* |/ |// | %|**|-\n",
    "\n",
    "- 绝对值：`abs()` absolute\n",
    "- 商余：`divmode(x, y)` 返回 (商 x//y，余 x%y) 元组\n",
    "- 幂余：`pow(x,y[,z])` (x**y)%z\n",
    "    - pow(3, pow(3, 99), 100000) 为 4587\n",
    "- 四舍五入：`round(数字[，小数截取位数=0])`\n",
    "    - 由于浮点数存储的问题：`0.1 + 0.2 != 0.3`，需要round\n",
    "- `max()`, `min()`\n",
    "- `int()`, `float()`, `complex()` 给实数增加虚部\n",
    "- 更复杂的计算 `import math`"
   ],
   "cell_type": "markdown",
   "metadata": {}
  },
  {
   "cell_type": "code",
   "execution_count": 4,
   "metadata": {},
   "outputs": [
    {
     "output_type": "execute_result",
     "data": {
      "text/plain": [
       "3"
      ]
     },
     "metadata": {},
     "execution_count": 4
    }
   ],
   "source": [
    "1 + 2"
   ]
  },
  {
   "cell_type": "code",
   "execution_count": 5,
   "metadata": {},
   "outputs": [
    {
     "output_type": "execute_result",
     "data": {
      "text/plain": [
       "2.0"
      ]
     },
     "metadata": {},
     "execution_count": 5
    }
   ],
   "source": [
    "3 - 1."
   ]
  },
  {
   "cell_type": "code",
   "execution_count": 6,
   "metadata": {},
   "outputs": [
    {
     "output_type": "execute_result",
     "data": {
      "text/plain": [
       "56088.0"
      ]
     },
     "metadata": {},
     "execution_count": 6
    }
   ],
   "source": [
    "123 * 456."
   ]
  },
  {
   "cell_type": "code",
   "execution_count": 7,
   "metadata": {},
   "outputs": [
    {
     "output_type": "execute_result",
     "data": {
      "text/plain": [
       "3.707317073170732"
      ]
     },
     "metadata": {},
     "execution_count": 7
    }
   ],
   "source": [
    "456 / 123"
   ]
  },
  {
   "cell_type": "code",
   "execution_count": 8,
   "metadata": {},
   "outputs": [
    {
     "output_type": "execute_result",
     "data": {
      "text/plain": [
       "3"
      ]
     },
     "metadata": {},
     "execution_count": 8
    }
   ],
   "source": [
    "456 // 123 # 去尾"
   ]
  },
  {
   "cell_type": "code",
   "execution_count": 9,
   "metadata": {},
   "outputs": [
    {
     "output_type": "execute_result",
     "data": {
      "text/plain": [
       "38"
      ]
     },
     "metadata": {},
     "execution_count": 9
    }
   ],
   "source": [
    "123122 % 234"
   ]
  },
  {
   "cell_type": "code",
   "execution_count": 10,
   "metadata": {},
   "outputs": [
    {
     "output_type": "execute_result",
     "data": {
      "text/plain": [
       "64"
      ]
     },
     "metadata": {},
     "execution_count": 10
    }
   ],
   "source": [
    "2 ** 6 # 2的6次方"
   ]
  },
  {
   "cell_type": "code",
   "execution_count": 11,
   "metadata": {},
   "outputs": [
    {
     "output_type": "execute_result",
     "data": {
      "text/plain": [
       "100.0"
      ]
     },
     "metadata": {},
     "execution_count": 11
    }
   ],
   "source": [
    "abs(-100.)"
   ]
  },
  {
   "cell_type": "code",
   "execution_count": 12,
   "metadata": {},
   "outputs": [
    {
     "output_type": "execute_result",
     "data": {
      "text/plain": [
       "94587"
      ]
     },
     "metadata": {},
     "execution_count": 12
    }
   ],
   "source": [
    "pow(3, pow(3, 99), 100000)"
   ]
  },
  {
   "cell_type": "code",
   "execution_count": 13,
   "metadata": {},
   "outputs": [
    {
     "output_type": "execute_result",
     "data": {
      "text/plain": [
       "True"
      ]
     },
     "metadata": {},
     "execution_count": 13
    }
   ],
   "source": [
    "0.1 + 0.2 != 0.3"
   ]
  },
  {
   "cell_type": "code",
   "execution_count": 14,
   "metadata": {},
   "outputs": [
    {
     "output_type": "execute_result",
     "data": {
      "text/plain": [
       "44123"
      ]
     },
     "metadata": {},
     "execution_count": 14
    }
   ],
   "source": [
    "max(123, 12312, 1223, 2323, 44123)"
   ]
  },
  {
   "cell_type": "code",
   "execution_count": 15,
   "metadata": {},
   "outputs": [
    {
     "output_type": "execute_result",
     "data": {
      "text/plain": [
       "123"
      ]
     },
     "metadata": {},
     "execution_count": 15
    }
   ],
   "source": [
    "min([123, 12312, 1223, 2323, 44123]) # 可传入元组、数组"
   ]
  },
  {
   "cell_type": "code",
   "execution_count": 16,
   "metadata": {},
   "outputs": [
    {
     "output_type": "execute_result",
     "data": {
      "text/plain": [
       "123"
      ]
     },
     "metadata": {},
     "execution_count": 16
    }
   ],
   "source": [
    "int(123.713) # 去尾"
   ]
  },
  {
   "cell_type": "code",
   "execution_count": 17,
   "metadata": {},
   "outputs": [
    {
     "output_type": "execute_result",
     "data": {
      "text/plain": [
       "123.0"
      ]
     },
     "metadata": {},
     "execution_count": 17
    }
   ],
   "source": [
    "float(123)"
   ]
  },
  {
   "cell_type": "code",
   "execution_count": 18,
   "metadata": {},
   "outputs": [
    {
     "output_type": "execute_result",
     "data": {
      "text/plain": [
       "(123+0j)"
      ]
     },
     "metadata": {},
     "execution_count": 18
    }
   ],
   "source": [
    "complex(123)"
   ]
  },
  {
   "source": [
    "## str\n",
    "\n",
    "- 索引 `[位置]`\n",
    "    - 从0开始\n",
    "    - 从-1倒数\n",
    "- 切片 `[开始:结尾(不含):步长]`\n",
    "    - `str[:]` 所有字符\n",
    "- 基本的 `format()` 格式化方法\n",
    "    - \"\"当中的`{}`为占位符，填入`.format()`中的参数\n",
    "        - `\"第一个{}第二个{}\".format(first, second)`\n",
    "        - `\"第一个{0}第二个{1}第一个{0}\".format(first, second)`\n",
    "    - `{参数序号: 格式控制标记}`\n",
    "\n",
    "| :  |   <填充>  |   <对齐> | <宽度>|  <,>  |   <.>     |         <类型>             |\n",
    "|---:|:---------:| :------: |------|:-----:|:---------:|:-------------------------  |\n",
    "|引导|  用于     |  < 左对齐 |      | 千分位|  小数精度  |   整数类型 b, c, d, o, x, X |\n",
    "|符号|  填充的   |  > 右对齐 |      | 间隔符|    or     |      浮点数类型 e, E, f, %  |\n",
    "|    |  单个字符 |   ^ 居中 |       |      |最大输出长度|                             |\n"
   ],
   "cell_type": "markdown",
   "metadata": {}
  },
  {
   "cell_type": "code",
   "execution_count": 19,
   "metadata": {},
   "outputs": [],
   "source": [
    "test_str = \"一二三四五六七八九十\""
   ]
  },
  {
   "source": [
    "### 索引"
   ],
   "cell_type": "markdown",
   "metadata": {}
  },
  {
   "cell_type": "code",
   "execution_count": 20,
   "metadata": {},
   "outputs": [
    {
     "output_type": "execute_result",
     "data": {
      "text/plain": [
       "'一'"
      ]
     },
     "metadata": {},
     "execution_count": 20
    }
   ],
   "source": [
    "test_str[0]"
   ]
  },
  {
   "cell_type": "code",
   "execution_count": 21,
   "metadata": {},
   "outputs": [
    {
     "output_type": "execute_result",
     "data": {
      "text/plain": [
       "'五'"
      ]
     },
     "metadata": {},
     "execution_count": 21
    }
   ],
   "source": [
    "test_str[4]"
   ]
  },
  {
   "cell_type": "code",
   "execution_count": 22,
   "metadata": {},
   "outputs": [
    {
     "output_type": "execute_result",
     "data": {
      "text/plain": [
       "'十'"
      ]
     },
     "metadata": {},
     "execution_count": 22
    }
   ],
   "source": [
    "test_str[-1]"
   ]
  },
  {
   "source": [
    "### 切片"
   ],
   "cell_type": "markdown",
   "metadata": {}
  },
  {
   "cell_type": "code",
   "execution_count": 23,
   "metadata": {},
   "outputs": [
    {
     "output_type": "execute_result",
     "data": {
      "text/plain": [
       "'二三四五六七八'"
      ]
     },
     "metadata": {},
     "execution_count": 23
    }
   ],
   "source": [
    "test_str[1:8]"
   ]
  },
  {
   "cell_type": "code",
   "execution_count": 24,
   "metadata": {},
   "outputs": [
    {
     "output_type": "execute_result",
     "data": {
      "text/plain": [
       "'一二三四五六七八九'"
      ]
     },
     "metadata": {},
     "execution_count": 24
    }
   ],
   "source": [
    "test_str[:-1]"
   ]
  },
  {
   "cell_type": "code",
   "execution_count": 25,
   "metadata": {},
   "outputs": [
    {
     "output_type": "execute_result",
     "data": {
      "text/plain": [
       "'一二三四五六七八九十'"
      ]
     },
     "metadata": {},
     "execution_count": 25
    }
   ],
   "source": [
    "test_str[:]"
   ]
  },
  {
   "source": [
    "### `.format()`"
   ],
   "cell_type": "markdown",
   "metadata": {}
  },
  {
   "cell_type": "code",
   "execution_count": 26,
   "metadata": {},
   "outputs": [
    {
     "output_type": "execute_result",
     "data": {
      "text/plain": [
       "'你说我说的对不对？'"
      ]
     },
     "metadata": {},
     "execution_count": 26
    }
   ],
   "source": [
    "\"{}说{}说的对不对？\".format(\"你\", \"我\")"
   ]
  },
  {
   "cell_type": "code",
   "execution_count": 27,
   "metadata": {},
   "outputs": [
    {
     "output_type": "execute_result",
     "data": {
      "text/plain": [
       "'我说你对，你一定对'"
      ]
     },
     "metadata": {},
     "execution_count": 27
    }
   ],
   "source": [
    "\"{0}说{1}对，{1}一定对\".format(\"我\", \"你\")"
   ]
  },
  {
   "source": [
    "#### 文本格式化"
   ],
   "cell_type": "markdown",
   "metadata": {}
  },
  {
   "cell_type": "code",
   "execution_count": 28,
   "metadata": {},
   "outputs": [
    {
     "output_type": "execute_result",
     "data": {
      "text/plain": [
       "'=======PYTHON======='"
      ]
     },
     "metadata": {},
     "execution_count": 28
    }
   ],
   "source": [
    "\"{0:=^20}\".format(\"PYTHON\")"
   ]
  },
  {
   "cell_type": "code",
   "execution_count": 29,
   "metadata": {},
   "outputs": [
    {
     "output_type": "execute_result",
     "data": {
      "text/plain": [
       "'                 BIT'"
      ]
     },
     "metadata": {},
     "execution_count": 29
    }
   ],
   "source": [
    "\"{0:>20}\".format(\"BIT\")"
   ]
  },
  {
   "cell_type": "code",
   "execution_count": 30,
   "metadata": {},
   "outputs": [
    {
     "output_type": "execute_result",
     "data": {
      "text/plain": [
       "'BIT       '"
      ]
     },
     "metadata": {},
     "execution_count": 30
    }
   ],
   "source": [
    "\"{0:10}\".format(\"BIT\")"
   ]
  },
  {
   "source": [
    "#### 数字格式化"
   ],
   "cell_type": "markdown",
   "metadata": {}
  },
  {
   "cell_type": "code",
   "execution_count": 31,
   "metadata": {},
   "outputs": [
    {
     "output_type": "execute_result",
     "data": {
      "text/plain": [
       "'二进制110101001,？Ʃ,十进制425,八进制651,十六进制1a9,1A9'"
      ]
     },
     "metadata": {},
     "execution_count": 31
    }
   ],
   "source": [
    "\"二进制{0:b},？{0:c},十进制{0:d},八进制{0:o},十六进制{0:x},{0:X}\".format(425)"
   ]
  },
  {
   "cell_type": "code",
   "execution_count": 32,
   "metadata": {},
   "outputs": [
    {
     "output_type": "execute_result",
     "data": {
      "text/plain": [
       "'3.141593e+00,3.141593E+00,3.141593,314.159260%'"
      ]
     },
     "metadata": {},
     "execution_count": 32
    }
   ],
   "source": [
    "\"{0:e},{0:E},{0:f},{0:%}\".format(3.1415926)"
   ]
  },
  {
   "cell_type": "code",
   "execution_count": 33,
   "metadata": {},
   "outputs": [
    {
     "output_type": "execute_result",
     "data": {
      "text/plain": [
       "'12,345.68'"
      ]
     },
     "metadata": {},
     "execution_count": 33
    }
   ],
   "source": [
    "\"{0:,.2f}\".format(12345.6789)"
   ]
  },
  {
   "source": [
    "## str 操作\n",
    "\n",
    "- 连接： x + y\n",
    "- 复制： x * n\n",
    "- 是否子串： x in y\n",
    "\n",
    "处理函数\n",
    "- 长度：`len()`\n",
    "- 返回某类型对应的的字符串：`str()`\n",
    "- 切换进制：`hex()` `oct()` （到对应进制的字符串）\n",
    "\n",
    "字符处理\n",
    "- chr(u) unicode 字符\n",
    "- ord(c) char\n",
    "\n",
    "方法\n",
    "- `str.lower()` 或 `str.upper()` 小、大写\n",
    "- `str.split(sep=None)` 分隔\n",
    "- `str.count(sub)` 看子串数目\n",
    "- `str.replace(old, new)` 替换\n",
    "- `str.center(width[,fillchar])` 字符串str根据宽度width居中，fillchar可选\n",
    "- `str.strip(chars)` 去掉两侧chars中列出的字符\n",
    "- `str.join(iter)` 在iter变量除最后元素外每个元素后增加一个str"
   ],
   "cell_type": "markdown",
   "metadata": {}
  },
  {
   "source": [
    "### 函数"
   ],
   "cell_type": "markdown",
   "metadata": {}
  },
  {
   "cell_type": "code",
   "execution_count": 34,
   "metadata": {},
   "outputs": [
    {
     "output_type": "execute_result",
     "data": {
      "text/plain": [
       "'这个没有意思'"
      ]
     },
     "metadata": {},
     "execution_count": 34
    }
   ],
   "source": [
    "\"这个\" + \"没有意思\""
   ]
  },
  {
   "cell_type": "code",
   "execution_count": 35,
   "metadata": {},
   "outputs": [
    {
     "output_type": "execute_result",
     "data": {
      "text/plain": [
       "'呵呵呵呵呵呵呵呵呵呵'"
      ]
     },
     "metadata": {},
     "execution_count": 35
    }
   ],
   "source": [
    "\"呵\" * 10"
   ]
  },
  {
   "cell_type": "code",
   "execution_count": 36,
   "metadata": {},
   "outputs": [
    {
     "output_type": "execute_result",
     "data": {
      "text/plain": [
       "True"
      ]
     },
     "metadata": {},
     "execution_count": 36
    }
   ],
   "source": [
    "\"什么\" in \"你说这是什么东西？\""
   ]
  },
  {
   "cell_type": "code",
   "execution_count": 37,
   "metadata": {},
   "outputs": [
    {
     "output_type": "execute_result",
     "data": {
      "text/plain": [
       "'0xf365'"
      ]
     },
     "metadata": {},
     "execution_count": 37
    }
   ],
   "source": [
    "hex(62309)"
   ]
  },
  {
   "cell_type": "code",
   "execution_count": 38,
   "metadata": {},
   "outputs": [
    {
     "output_type": "execute_result",
     "data": {
      "text/plain": [
       "7526"
      ]
     },
     "metadata": {},
     "execution_count": 38
    }
   ],
   "source": [
    "ord(\"ᵦ\")"
   ]
  },
  {
   "cell_type": "code",
   "execution_count": 39,
   "metadata": {},
   "outputs": [
    {
     "output_type": "execute_result",
     "data": {
      "text/plain": [
       "'ᵦ'"
      ]
     },
     "metadata": {},
     "execution_count": 39
    }
   ],
   "source": [
    "chr(7526)"
   ]
  },
  {
   "cell_type": "code",
   "execution_count": 40,
   "metadata": {},
   "outputs": [
    {
     "output_type": "execute_result",
     "data": {
      "text/plain": [
       "13"
      ]
     },
     "metadata": {},
     "execution_count": 40
    }
   ],
   "source": [
    "len(\"看名字就知道这个是看长度的\")"
   ]
  },
  {
   "cell_type": "code",
   "execution_count": 41,
   "metadata": {},
   "outputs": [
    {
     "output_type": "execute_result",
     "data": {
      "text/plain": [
       "'(3.14+1j)'"
      ]
     },
     "metadata": {},
     "execution_count": 41
    }
   ],
   "source": [
    "str(3.14 + 1j)"
   ]
  },
  {
   "source": [
    "### 方法"
   ],
   "cell_type": "markdown",
   "metadata": {}
  },
  {
   "cell_type": "code",
   "execution_count": 42,
   "metadata": {},
   "outputs": [
    {
     "output_type": "execute_result",
     "data": {
      "text/plain": [
       "'hello world'"
      ]
     },
     "metadata": {},
     "execution_count": 42
    }
   ],
   "source": [
    "\"Hello World\".lower()"
   ]
  },
  {
   "cell_type": "code",
   "execution_count": 43,
   "metadata": {},
   "outputs": [
    {
     "output_type": "execute_result",
     "data": {
      "text/plain": [
       "'HELLO WORLD'"
      ]
     },
     "metadata": {},
     "execution_count": 43
    }
   ],
   "source": [
    "\"Hello World\".upper()"
   ]
  },
  {
   "cell_type": "code",
   "execution_count": 44,
   "metadata": {},
   "outputs": [
    {
     "output_type": "execute_result",
     "data": {
      "text/plain": [
       "['A', 'B', 'C']"
      ]
     },
     "metadata": {},
     "execution_count": 44
    }
   ],
   "source": [
    "\"A,B,C\".split(\",\")"
   ]
  },
  {
   "cell_type": "code",
   "execution_count": 45,
   "metadata": {},
   "outputs": [
    {
     "output_type": "execute_result",
     "data": {
      "text/plain": [
       "4"
      ]
     },
     "metadata": {},
     "execution_count": 45
    }
   ],
   "source": [
    "\"an apple a day\".count(\"a\")"
   ]
  },
  {
   "cell_type": "code",
   "execution_count": 46,
   "metadata": {},
   "outputs": [
    {
     "output_type": "execute_result",
     "data": {
      "text/plain": [
       "'hellOO wOOrld'"
      ]
     },
     "metadata": {},
     "execution_count": 46
    }
   ],
   "source": [
    "\"hello world\".replace(\"o\", \"OO\")"
   ]
  },
  {
   "cell_type": "code",
   "execution_count": 47,
   "metadata": {},
   "outputs": [
    {
     "output_type": "execute_result",
     "data": {
      "text/plain": [
       "'=========呵呵========='"
      ]
     },
     "metadata": {},
     "execution_count": 47
    }
   ],
   "source": [
    "\"呵呵\".center(20,\"=\") "
   ]
  },
  {
   "cell_type": "code",
   "execution_count": 48,
   "metadata": {},
   "outputs": [
    {
     "output_type": "execute_result",
     "data": {
      "text/plain": [
       "'test'"
      ]
     },
     "metadata": {},
     "execution_count": 48
    }
   ],
   "source": [
    "\"   #*￥&#（test（#*&#（@*&\".strip(\" @#￥&*（\")"
   ]
  },
  {
   "cell_type": "code",
   "execution_count": 49,
   "metadata": {},
   "outputs": [
    {
     "output_type": "execute_result",
     "data": {
      "text/plain": [
       "'1,2,3,4,5'"
      ]
     },
     "metadata": {},
     "execution_count": 49
    }
   ],
   "source": [
    "\",\".join(\"12345\")"
   ]
  }
 ]
}