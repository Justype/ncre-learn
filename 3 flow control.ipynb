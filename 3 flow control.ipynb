{
 "metadata": {
  "language_info": {
   "codemirror_mode": {
    "name": "ipython",
    "version": 3
   },
   "file_extension": ".py",
   "mimetype": "text/x-python",
   "name": "python",
   "nbconvert_exporter": "python",
   "pygments_lexer": "ipython3",
   "version": "3.8.5"
  },
  "orig_nbformat": 2,
  "kernelspec": {
   "name": "python3",
   "display_name": "Python 3.8.5 64-bit",
   "metadata": {
    "interpreter": {
     "hash": "16e3f6170213bc8b93f4af10cda404198c09c84502cee13f546aa00fc3fa8f5f"
    }
   }
  }
 },
 "nbformat": 4,
 "nbformat_minor": 2,
 "cells": [
  {
   "source": [
    "# 三、 程序的控制结构\n",
    "\n",
    "1. 程序的三种控制结构。\n",
    "2. 程序的分支结构：单分支结构、二分支结构、多分支结构。\n",
    "3. 程序的循环结构：遍历循环、无限循环、`break` 和 `continue` 循环控制。\n",
    "4. 程序的异常处理：`try-except`。"
   ],
   "cell_type": "markdown",
   "metadata": {}
  },
  {
   "source": [
    "## 分支\n",
    "\n",
    "`if` `elif` `else`"
   ],
   "cell_type": "markdown",
   "metadata": {}
  },
  {
   "cell_type": "code",
   "execution_count": 1,
   "metadata": {},
   "outputs": [
    {
     "output_type": "stream",
     "name": "stdout",
     "text": [
      "运行了分支语句内的语句\n外的语句\n"
     ]
    }
   ],
   "source": [
    "if not False:\n",
    "    print(\"运行了分支语句内的语句\")\n",
    "\n",
    "print(\"外的语句\")\n",
    "\n",
    "if False or False:\n",
    "    print(\"没运行\")"
   ]
  },
  {
   "cell_type": "code",
   "execution_count": 2,
   "metadata": {},
   "outputs": [
    {
     "output_type": "stream",
     "name": "stdout",
     "text": [
      "if内条件为false 运行else内的\n"
     ]
    }
   ],
   "source": [
    "if False and True:\n",
    "    print(\"运行不到\")\n",
    "else:\n",
    "    print(\"if内条件为false 运行else内的\")"
   ]
  },
  {
   "cell_type": "code",
   "execution_count": 3,
   "metadata": {},
   "outputs": [
    {
     "output_type": "stream",
     "name": "stdout",
     "text": [
      "n大于零小于一\n"
     ]
    }
   ],
   "source": [
    "n = 0.3\n",
    "if n < 0:\n",
    "    print(\"n小于零\")\n",
    "elif n > 1:\n",
    "    print(\"n大于一\")\n",
    "elif n > 0: # 注意多分枝的隐藏条件\n",
    "    print(\"n大于零小于一\")\n",
    "else:\n",
    "    print(\"n为零\")"
   ]
  },
  {
   "source": [
    "## 循环\n",
    "\n",
    "`while` 条件:\n",
    "- 不停执行，到条件为 False 时终止\n",
    "\n",
    "`for in 遍历集合`:\n",
    "- 直到集合遍历完毕\n",
    "- `range(开始, 结束(不含), 步长)`\n",
    "- `enumerate(集合[, 开始的索引])`"
   ],
   "cell_type": "markdown",
   "metadata": {}
  },
  {
   "cell_type": "code",
   "execution_count": 4,
   "metadata": {},
   "outputs": [
    {
     "output_type": "stream",
     "name": "stdout",
     "text": [
      "试\n试\n们\n我\n"
     ]
    }
   ],
   "source": [
    "a = [\"我\",\"们\",\"试\",\"试\"]\n",
    "while a != []:\n",
    "    print(a.pop())"
   ]
  },
  {
   "cell_type": "code",
   "execution_count": 5,
   "metadata": {
    "tags": []
   },
   "outputs": [
    {
     "output_type": "stream",
     "name": "stdout",
     "text": [
      "0 我\n2 试\n"
     ]
    }
   ],
   "source": [
    "# while True:\n",
    "#     print(\"无限循环，不要运行哦！\")\n",
    "\n",
    "a = [\"我\",\"们\",\"试\",\"试\"]\n",
    "index = -1\n",
    "while True:\n",
    "    index += 1\n",
    "    if index == 1:\n",
    "        continue\n",
    "    print(index, a[index])\n",
    "    if a[index] == \"试\":\n",
    "        break"
   ]
  },
  {
   "cell_type": "code",
   "execution_count": 6,
   "metadata": {},
   "outputs": [
    {
     "output_type": "stream",
     "name": "stdout",
     "text": [
      " -10  -8  -6  -4  -2   0   2   4   6   8"
     ]
    }
   ],
   "source": [
    "for i in range(-10, 10, 2):\n",
    "    print(\"{:4}\".format(i), end=\"\")"
   ]
  },
  {
   "cell_type": "code",
   "execution_count": 7,
   "metadata": {},
   "outputs": [
    {
     "output_type": "stream",
     "name": "stdout",
     "text": [
      "第1个元素为\t我\n第2个元素为\t们\n第3个元素为\t试\n第4个元素为\t试\n"
     ]
    }
   ],
   "source": [
    "a = [\"我\",\"们\",\"试\",\"试\"]\n",
    "for (index, item) in enumerate(a, 1):\n",
    "    print(\"第{}个元素为\\t{}\".format(index, item))"
   ]
  },
  {
   "source": [
    "## 异常\n",
    "\n",
    "- `try` 要测试的代码\n",
    "- `except` 捕获可能的错误\n",
    "- `else` 没报错时，运行\n",
    "- `finally` 一定执行"
   ],
   "cell_type": "markdown",
   "metadata": {}
  },
  {
   "cell_type": "code",
   "execution_count": 8,
   "metadata": {},
   "outputs": [
    {
     "output_type": "stream",
     "name": "stdout",
     "text": [
      "正常运行\n一定执行\n"
     ]
    }
   ],
   "source": [
    "a = [1, 2, 3, 4, 5]\n",
    "\n",
    "try:\n",
    "    a[3]\n",
    "except IndexError:\n",
    "    print(\"索引越界\")\n",
    "else:\n",
    "    print(\"正常运行\")\n",
    "finally:\n",
    "    print(\"一定执行\")"
   ]
  },
  {
   "cell_type": "code",
   "execution_count": 9,
   "metadata": {},
   "outputs": [
    {
     "output_type": "stream",
     "name": "stdout",
     "text": [
      "什么错误？ <class 'TypeError'> 'str' object cannot be interpreted as an integer\n"
     ]
    }
   ],
   "source": [
    "a = [1, 2, 3, 4, 5]\n",
    "\n",
    "try:\n",
    "    oct(\"1213123\")\n",
    "except Exception as e:\n",
    "    print(\"什么错误？\", type(e), e)"
   ]
  },
  {
   "cell_type": "code",
   "execution_count": 10,
   "metadata": {},
   "outputs": [
    {
     "output_type": "stream",
     "name": "stdout",
     "text": [
      "什么错误？ <class '__main__.AnError'> '就是试试能不能发起异常'\n"
     ]
    }
   ],
   "source": [
    "class AnError(Exception):\n",
    "    def __init__(self,value):\n",
    "        self.value = value\n",
    "    def __str__(self):\n",
    "        return repr(self.value)\n",
    "\n",
    "try:\n",
    "    raise(AnError(\"就是试试能不能发起异常\"))\n",
    "except Exception as e:\n",
    "    print(\"什么错误？\", type(e), e)"
   ]
  }
 ]
}