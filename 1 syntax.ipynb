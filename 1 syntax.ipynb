{
 "metadata": {
  "language_info": {
   "codemirror_mode": {
    "name": "ipython",
    "version": 3
   },
   "file_extension": ".py",
   "mimetype": "text/x-python",
   "name": "python",
   "nbconvert_exporter": "python",
   "pygments_lexer": "ipython3",
   "version": "3.8.5"
  },
  "orig_nbformat": 2,
  "kernelspec": {
   "name": "python3",
   "display_name": "Python 3.8.5 64-bit",
   "metadata": {
    "interpreter": {
     "hash": "16e3f6170213bc8b93f4af10cda404198c09c84502cee13f546aa00fc3fa8f5f"
    }
   }
  }
 },
 "nbformat": 4,
 "nbformat_minor": 2,
 "cells": [
  {
   "source": [
    "# 一、 `Python` 语言基本语法元素\n",
    "\n",
    "1. 程序的基本语法元素：程序的格式框架、缩进、注释、变量、命名、保留字、数据类型、赋值语句、引用。\n",
    "2. 基本输入输出函数：`input()`、`eval()`、`print()`。\n",
    "3. 源程序的书写风格。\n",
    "4. `Python` 语言的特点。"
   ],
   "cell_type": "markdown",
   "metadata": {}
  },
  {
   "source": [
    "## 基本语法元素\n",
    "\n",
    "格式框架：\n",
    "- 无`;`，以行分界\n",
    "- 无`{}`，以缩进表示层次\n",
    "\n",
    "缩进：建议4个空格，一个程序内必须统一\n",
    "\n",
    "注释：\n",
    "- `# 后面都是注释`\n",
    "- 多行`\"\"\" 内部的为多行注释  \"\"\"`\n",
    "    - 其实是多行字符串，没有被赋值给变量\n",
    "\n",
    "变量：\n",
    "- 存储值的占位符\n",
    "- 可以转换类型\n",
    "    - 如：`a = 123` 后面又可以 `a = \"123\"`\n",
    "\n",
    "命名：\n",
    "- 大小字母、数字、下划线、中文等字符及组合\n",
    "- 大小写敏感，首字母不能是数字、不与保留字相同\n",
    "- 命名规范\n",
    "    - ProjectName\n",
    "    - module_name package_name\n",
    "    - ClassName ExceptionName\n",
    "    - GLOBAL_VAR_NAME CONSTANT_NAME\n",
    "    - method_name, function_name, instance_var_name, function_parameter_name, local_var_name\n",
    "\n",
    "数据类型：\n",
    "- 字符串、整数、浮点数、列表\n",
    "\n",
    "赋值语句：\n",
    "- 变量名 = 能产生数据的表达式\n",
    "\n"
   ],
   "cell_type": "markdown",
   "metadata": {}
  },
  {
   "source": [
    "## 输入输出函数"
   ],
   "cell_type": "markdown",
   "metadata": {}
  },
  {
   "source": [
    "### `input()`\n",
    "\n",
    "input(想显示的字符串) -> 输入的字符串"
   ],
   "cell_type": "markdown",
   "metadata": {}
  },
  {
   "cell_type": "code",
   "execution_count": 2,
   "metadata": {},
   "outputs": [
    {
     "output_type": "execute_result",
     "data": {
      "text/plain": [
       "'呵呵'"
      ]
     },
     "metadata": {},
     "execution_count": 2
    }
   ],
   "source": [
    "enter = input(\"随便输入什么\")\n",
    "enter"
   ]
  },
  {
   "source": [
    "### `eval()`\n",
    "\n",
    "将传入的字符串转换为Python语句，并执行\n",
    "\n",
    "`eval(source, globals=None, locals=None, /)`\n",
    "\n",
    "Evaluate the given source in the context of globals and locals."
   ],
   "cell_type": "markdown",
   "metadata": {}
  },
  {
   "cell_type": "code",
   "execution_count": 4,
   "metadata": {},
   "outputs": [
    {
     "output_type": "stream",
     "name": "stdout",
     "text": [
      "你学会了吗？\n"
     ]
    }
   ],
   "source": [
    "eval(\"print(\\\"你学会了吗？\\\")\") # 执行了 print 语句"
   ]
  },
  {
   "source": [
    "### `print()`\n",
    "\n",
    "打印字符串\n",
    "- 可连续传入多个字符串\n",
    "- `sep=` 控制多个字符串中的字符\n",
    "- `end=` 控制结尾\n",
    "\n",
    ".format() 是string的方法，而不是print内的"
   ],
   "cell_type": "markdown",
   "metadata": {}
  },
  {
   "cell_type": "code",
   "execution_count": 6,
   "metadata": {},
   "outputs": [
    {
     "output_type": "stream",
     "name": "stdout",
     "text": [
      "你说,是不是,呢？！\n"
     ]
    }
   ],
   "source": [
    "print(\"你说\", \"是不是\", \"呢\", sep=\",\", end=\"？\")\n",
    "print(\"！\")"
   ]
  }
 ]
}